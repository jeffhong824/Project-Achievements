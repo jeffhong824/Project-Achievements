{
 "cells": [
  {
   "cell_type": "markdown",
   "metadata": {},
   "source": [
    "## EEG only running"
   ]
  },
  {
   "cell_type": "code",
   "execution_count": 321,
   "metadata": {},
   "outputs": [],
   "source": [
    "# -------------------------------- MNE EEG --------------------------------\n",
    "import mne\n",
    "from mne.io import read_raw_edf\n",
    "from mne.decoding import CSP\n",
    "from mne import Epochs, pick_types, events_from_annotations\n",
    "\n",
    "# -------------------------------- Singal processing --------------------------------\n",
    "import math\n",
    "from math import e\n",
    "import numpy as np\n",
    "import scipy\n",
    "import scipy.io as sio\n",
    "from scipy.stats import entropy,skew,kurtosis\n",
    "from scipy import signal\n",
    "import matplotlib.pyplot as plt\n",
    "from mpl_toolkits.mplot3d import Axes3D\n",
    "\n",
    "# -------------------------------- ML --------------------------------\n",
    "from sklearn.svm import SVC\n",
    "from sklearn.neighbors import KNeighborsClassifier\n",
    "from sklearn.linear_model import LogisticRegression\n",
    "from sklearn.tree import DecisionTreeClassifier\n",
    "from sklearn.ensemble import RandomForestClassifier , ExtraTreesClassifier , GradientBoostingClassifier , AdaBoostClassifier #, BaggingClassifier\n",
    "\n",
    "from tensorflow.keras.preprocessing.image import ImageDataGenerator\n",
    "from sklearn.preprocessing import  Normalizer \n",
    "from sklearn.decomposition import PCA\n",
    "from sklearn.pipeline import Pipeline\n",
    "\n",
    "# -------------------------------- Model trianning & evaluate --------------------------------\n",
    "from sklearn.model_selection import train_test_split, GridSearchCV, RandomizedSearchCV\n",
    "from sklearn.metrics import classification_report,confusion_matrix,accuracy_score,precision_score,recall_score,f1_score\n",
    "\n",
    "# -------------------------------- Save Model --------------------------------\n",
    "import joblib\n",
    "\n",
    "# -------------------------------- Save Output --------------------------------\n",
    "import pandas as pd\n",
    "\n",
    "# -------------------------------- Python toolkits --------------------------------\n",
    "from tqdm import tqdm\n",
    "import os\n",
    "from os import walk\n",
    "import IPython.display as display\n",
    "import warnings\n",
    "warnings.filterwarnings(\"ignore\")\n",
    "\n",
    "\n",
    "# -------------------------------- EEG pre-setting --------------------------------\n",
    "# sampling rate = 250以上\n",
    "# channel = 21個 + 1個參考位置，但每個醫生存檔名稱有些差異需注意\n",
    "# 有光照檔案 & 沒光照檔案\n",
    "# 有光照檔案中 有些有 校準/Calibration\n",
    "Cannel=['EEG Fp1-Ref','EEG Fp2-Ref','EEG F7-Ref','EEG F3-Ref','EEG Fz-Ref','EEG F4-Ref','EEG F8-Ref','EEG T3-Ref','EEG C3-Ref','EEG Cz-Ref','EEG C4-Ref','EEG T4-Ref',\n",
    "        'EEG T5-Ref','EEG P3-Ref','EEG Pz-Ref','EEG P4-Ref','EEG T6-Ref','EEG O1-Ref','EEG O2-Ref','EEG A1-Ref','EEG A2-Ref','Photic Ph','Photic-REF'\n",
    "       ]\n",
    "\n",
    "# -------------------------------- EEG pre-processing --------------------------------\n",
    "def tidy_up(channel_position,all_data): #chan_idxs = [raw.ch_names.index(ch) for ch in chs]\n",
    "    \n",
    "    Cannel=['EEG Fp1-Ref','EEG Fp2-Ref','EEG F7-Ref','EEG F3-Ref','EEG Fz-Ref','EEG F4-Ref','EEG F8-Ref','EEG T3-Ref','EEG C3-Ref','EEG Cz-Ref','EEG C4-Ref','EEG T4-Ref',\n",
    "            'EEG T5-Ref','EEG P3-Ref','EEG Pz-Ref','EEG P4-Ref','EEG T6-Ref','EEG O1-Ref','EEG O2-Ref','EEG A1-Ref','EEG A2-Ref','Photic Ph'\n",
    "           ]\n",
    "    count_already_find_channel = 0\n",
    "    sort_channel_list = []\n",
    "    for find_channel in Cannel:\n",
    "        #each channel - data\n",
    "        for channel_position_each_channel in range(len(channel_position)):\n",
    "            #find channel position\n",
    "            if (channel_position[channel_position_each_channel].lower() == find_channel.lower()):\n",
    "                count_already_find_channel+=1\n",
    "                sort_channel_list.append(channel_position_each_channel)\n",
    "    if(count_already_find_channel==22):      \n",
    "        #save want channel data\n",
    "        all_data_save = all_data[sort_channel_list]\n",
    "        return all_data_save,sort_channel_list,1\n",
    "    else:\n",
    "        Cannel[21]='Photic-REF'\n",
    "        count_already_find_channel = 0\n",
    "        sort_channel_list = []\n",
    "        for find_channel in Cannel:\n",
    "            #each channel - data\n",
    "            for channel_position_each_channel in range(len(channel_position)):\n",
    "                #find channel position\n",
    "                if (channel_position[channel_position_each_channel].lower() == find_channel.lower()):\n",
    "                    count_already_find_channel+=1\n",
    "                    sort_channel_list.append(channel_position_each_channel)\n",
    "        if(count_already_find_channel==22):      \n",
    "            #save want channel data\n",
    "            all_data_save = all_data[sort_channel_list]\n",
    "            return all_data_save,sort_channel_list,1        \n",
    "        else:\n",
    "            sort_channel_list=[]\n",
    "            all_data_save =[]\n",
    "            return all_data_save,sort_channel_list,0\n",
    "\n",
    "def preprocessing(eeg_path,Output_data_path,Stop_threshold=100000,stroke='Y',train_year = ['2012','2013','2014','2015'],test_year = ['2016','2017']):\n",
    "\n",
    "    Training_Data_sets = []\n",
    "    Training_Data_names = []\n",
    "    Training_Label = []\n",
    "\n",
    "    Testing_Data_sets = []\n",
    "    Testing_Data_names = []\n",
    "    Testing_Label = []\n",
    "    \n",
    "    stroke_epilepsy_how_long_data = []\n",
    "    \n",
    "    Success_Name = []\n",
    "    Fail_Name = []\n",
    "    Fail_Name_step = []\n",
    "\n",
    "    if stroke :\n",
    "        Save_raw_EEG = Output_data_path+'stroke_epilepsy_eeg/'\n",
    "        Save_filter_EEG = Output_data_path+'stroke_epilepsy_eeg_filter/'\n",
    "        Save_10_20_system = Output_data_path+'stroke_epilepsy_eeg_10_20/'\n",
    "        data_type = 1\n",
    "    else:\n",
    "        Save_raw_EEG = Output_data_path+'stroke_no_epilepsy_eeg/'\n",
    "        Save_filter_EEG = Output_data_path+'stroke_no_epilepsy_eeg_filter/'\n",
    "        Save_10_20_system = Output_data_path+'stroke_no_epilepsy_eeg_10_20/'\n",
    "        data_type = 0\n",
    "    \n",
    "    Stop_times = 0\n",
    "    #Stop_threshold = 438 # 要跑多少筆\n",
    "\n",
    "    for root,dirs,files in walk(eeg_path):   \n",
    "        for Data in tqdm(files):\n",
    "            print(Data)\n",
    "            running_step = 'STEP0'\n",
    "            if Stop_times >= Stop_threshold :\n",
    "                break\n",
    "            try:\n",
    "                # 【Pre-processing】- Notch Filter、Bandpass Filter、Epoch、Resampling\n",
    "\n",
    "                # 讀檔案\n",
    "    #             Data = '2012_060_1'\n",
    "                raw = read_raw_edf(eeg_path+Data, preload=True)\n",
    "                raw_filter = read_raw_edf(eeg_path+Data, preload=True)\n",
    "                running_step = 'STEP1_Read_data_success' # Read data success\n",
    "\n",
    "                # 針對10-20 system channel filter\n",
    "                try:\n",
    "                    Cannel_filter=['EEG Fp1-Ref','EEG Fp2-Ref','EEG F7-Ref','EEG F3-Ref','EEG Fz-Ref','EEG F4-Ref','EEG F8-Ref','EEG T3-Ref','EEG C3-Ref','EEG Cz-Ref','EEG C4-Ref','EEG T4-Ref',\n",
    "                        'EEG T5-Ref','EEG P3-Ref','EEG Pz-Ref','EEG P4-Ref','EEG T6-Ref','EEG O1-Ref','EEG O2-Ref','EEG A1-Ref','EEG A2-Ref'\n",
    "                       ]\n",
    "                    raw_filter = raw_filter.notch_filter(60,Cannel_filter)\n",
    "                except:\n",
    "                    Cannel_filter=['EEG Fp1-REF','EEG Fp2-REF','EEG F7-REF','EEG F3-REF','EEG Fz-REF','EEG F4-REF','EEG F8-REF','EEG T3-REF','EEG C3-REF','EEG Cz-REF','EEG C4-REF','EEG T4-REF',\n",
    "                        'EEG T5-REF','EEG P3-REF','EEG Pz-REF','EEG P4-REF','EEG T6-REF','EEG O1-REF','EEG O2-REF','EEG A1-REF','EEG A2-REF'\n",
    "                       ]\n",
    "                    raw_filter = raw_filter.notch_filter(60,Cannel_filter)\n",
    "                raw_filter = raw_filter.filter(1,50,Cannel_filter)\n",
    "                running_step = 'STEP2_Filter_success'\n",
    "\n",
    "                # 資料info\n",
    "                frequency = raw.info['sfreq']\n",
    "                print('Sampling rate (Frequency) : '+str(frequency))\n",
    "                all_data = raw.get_data()\n",
    "                all_data_filter = raw_filter.get_data()\n",
    "                print('Data shape : ',all_data.shape)\n",
    "                channel_position = raw.info[\"ch_names\"]\n",
    "                print('Channel : '+str(len(channel_position)))\n",
    "                sec = raw.n_times / raw.info['sfreq']\n",
    "                print('Sec : '+str(sec))\n",
    "                stroke_epilepsy_how_long_data.append(sec)\n",
    "\n",
    "                # Channel選取、統整\n",
    "                select_data_save,sort_channel_list,success_or_not = tidy_up(channel_position,all_data)\n",
    "                select_data_save_filter,sort_channel_list_filter,success_or_not_filter = tidy_up(channel_position,all_data_filter)\n",
    "                print(success_or_not)\n",
    "                running_step = 'STEP3_Channel_select_success'\n",
    "\n",
    "                Channel_choose = []\n",
    "                for catch in sort_channel_list:\n",
    "                    Channel_choose.append(channel_position[catch])\n",
    "                print('10-20 system + photo : ',len(Channel_choose))\n",
    "\n",
    "                # 光照刺激位置探勘\n",
    "                Photo_position = np.where(np.array(select_data_save[-1])!=0)[0]\n",
    "                print('光照點位置 : ',Photo_position)\n",
    "                print('光照點數量 : ',len(Photo_position))\n",
    "\n",
    "                # 目標 13 Hz 實驗\n",
    "                for find_hz in range(len(Photo_position)-1):\n",
    "                    P1 = find_hz\n",
    "                    P2 = find_hz+1\n",
    "                    Hz_proba = 1/( ( Photo_position[P2] - Photo_position[P1] ) /frequency )\n",
    "                #     print('Hz : ', Hz_proba)\n",
    "                    if Hz_proba > 12 :\n",
    "                        First_start_position = Photo_position[find_hz]\n",
    "                        First_start_position_sec = First_start_position/frequency\n",
    "\n",
    "                        if First_start_position >=10000 : # 避免是 Calibration，但有例外 如2014_006_1\n",
    "                            break\n",
    "\n",
    "                print('Sampling point : ',First_start_position)\n",
    "                print('Sampling point (Sec.) : ',First_start_position_sec)\n",
    "\n",
    "                if success_or_not :\n",
    "                    print('Select shape : ',select_data_save.shape)\n",
    "                    print('Sec. : ',(select_data_save.shape[1]/frequency))\n",
    "\n",
    "                # 排序Channel\n",
    "                raw.reorder_channels(Channel_choose)\n",
    "                raw_filter.reorder_channels(Channel_choose)\n",
    "\n",
    "                print('\\nRaw : ')\n",
    "                Fig = raw.plot(duration = 2,n_channels=22,start=First_start_position_sec) # duration 視窗範圍幾秒 / n_channels 顯示數量 / start 開始秒數\n",
    "                print('Filter : ')\n",
    "                Fig_filter = raw_filter.plot(duration = 2,n_channels=22,start=First_start_position_sec) # duration 視窗範圍幾秒 / n_channels 顯示數量 / start 開始秒數\n",
    "\n",
    "\n",
    "\n",
    "                # 取出目標段落\n",
    "                raw_13Hz = raw_filter.get_data(picks=None, start=int(First_start_position), stop=int(First_start_position+8*frequency), reject_by_annotation=None, return_times=False, units=None, verbose=None)\n",
    "                all_data = raw_13Hz[:21]\n",
    "\n",
    "                # Resampling 250  P.S. Channel photo已經無關\n",
    "                if(frequency!=250):\n",
    "                    print('Raw sampling rate : ',frequency)\n",
    "                    sampling_long = int((frequency*8)*(250/frequency)) # int(event_data_long*(want_sampling_rate/sampling_rate))\n",
    "                    resampling_data = signal.resample(all_data,sampling_long,axis=1)\n",
    "\n",
    "                print('Pre-processing Data : ',resampling_data.shape )\n",
    "                running_step = 'STEP4_Epoch_success'\n",
    "\n",
    "\n",
    "\n",
    "                # 確認 13 HZ 事件位置、編號，取用Epoch\n",
    "                events, events_name = events_from_annotations(raw, event_id='auto')\n",
    "                try:\n",
    "                    event_id = events_name['Photic On(13 Hz)']\n",
    "                    print('13Hz in list position1 : ',list(events_name.keys()).index('Photic On(13 Hz)') )\n",
    "                except:\n",
    "                    event_id = events_name['13 Hz']\n",
    "                    print('13Hz in list position2 : ',list(events_name.keys()).index('13 Hz') )\n",
    "                print( '13Hz ID : ',event_id )\n",
    "                picks = pick_types(raw_filter.info, meg=False, eeg=True, stim=False, eog=False,exclude='bads')\n",
    "                tmin, tmax = -1., 4.\n",
    "                epochs = Epochs(raw_filter, events, event_id, tmin, tmax, proj=True, picks=picks,baseline=None, preload=True)\n",
    "\n",
    "                ch_names = ['Fp1','Fp2','F7','F3','Fz','F4','F8','T3','C3','Cz','C4','T4','T5','P3','Pz','P4','T6','O1','O2','A1','A2' ]\n",
    "                ch_types = ['eeg'] * 21\n",
    "                info = mne.create_info(ch_names, ch_types=ch_types, sfreq=250)\n",
    "                info.set_montage('standard_1020')\n",
    "\n",
    "                # 俯視圖\n",
    "                Cannel_plot=['Fp1','Fp2','F7','F3','Fz','F4','F8','T3','C3','Cz','C4','T4','T5','P3','Pz','P4','T6','O1','O2','A1','A2' ]\n",
    "                for plot in range(5): # 儲存前幾筆 # resampling_data.shape[1]\n",
    "                    Bo = False\n",
    "                    if plot <= 2 : # 顯示前幾筆\n",
    "                        Bo = True \n",
    "                        print('13Hz 8s - point : ',plot)\n",
    "                    Plot_Vt = mne.viz.plot_topomap(resampling_data[:21,plot], info,show=Bo,names=Cannel_plot,show_names=True)\n",
    "                    Plot_Vt[0].figure.savefig(Save_10_20_system+Data[:-4]+'_point'+str(plot)+'.png')\n",
    "\n",
    "                print('Get 13 Hz data')\n",
    "                Fig = raw.plot(duration = 2,n_channels=22,start=First_start_position_sec)\n",
    "                Fig.savefig(Save_raw_EEG+Data[:-4]+'.jpg')\n",
    "                Fig_filter = raw_filter.plot(duration = 2,n_channels=22,start=First_start_position_sec)\n",
    "                Fig_filter.savefig(Save_filter_EEG+Data[:-4]+'.jpg')\n",
    "\n",
    "                if Data[:4] in train_year :\n",
    "                    Training_Data_sets.append(resampling_data)\n",
    "                    Training_Data_names.append(Data)\n",
    "                    Training_Label.append(data_type)\n",
    "                elif Data[:4] in test_year:\n",
    "                    Testing_Data_sets.append(resampling_data)\n",
    "                    Testing_Data_names.append(Data)\n",
    "                    Testing_Label.append(data_type)\n",
    "\n",
    "                Success_Name.append(Data)\n",
    "            except:\n",
    "                next_one = True\n",
    "                Fail_Name.append(Data)\n",
    "                Fail_Name_step.append(running_step)\n",
    "\n",
    "            display.clear_output(wait=True)\n",
    "            Stop_times += 1\n",
    "            \n",
    "        print('Success: ',len(Success_Name),'/',Stop_times)\n",
    "        print('Fail: ',len(Fail_Name),'/',Stop_times)\n",
    "    return  Success_Name,Fail_Name,Fail_Name_step,Training_Data_sets,Training_Data_names,Training_Label,Testing_Data_sets,Testing_Data_names,Testing_Label,stroke_epilepsy_how_long_data\n",
    "\n",
    "# -------------------------------- MorletWavelet --------------------------------\n",
    "def MorletWavelet(fc):\n",
    "\n",
    "    F_RATIO = 7\n",
    "    Zalpha2 = 3.3\n",
    "\n",
    "    sigma_f = fc/F_RATIO\n",
    "    sigma_t = 1/(2*math.pi*sigma_f)\n",
    "    A = 1/((sigma_t*(math.pi**0.5))**0.5)\n",
    "    #print(A)\n",
    "    max_t = math.ceil(Zalpha2 * sigma_t)\n",
    "\n",
    "    t = []\n",
    "    for t_index in range(-max_t,max_t+1):\n",
    "        t.append(t_index)\n",
    "    MW = []\n",
    "    for t_multi in range(len(t)):\n",
    "        v1 = 1/(-2*sigma_t**2)\n",
    "        v2 = (2j)*math.pi*fc\n",
    "        want = t[t_multi]*(t[t_multi]*v1+v2)\n",
    "        MW.append(A * e**(want))\n",
    "    return MW\n",
    "\n",
    "\n",
    "def tfa_morlet(td, fs, fmin, fmax, fstep):\n",
    "    TFmap = []\n",
    "        \n",
    "    for fc in range(fmin,fmax+1):#,fs\n",
    "        MW = MorletWavelet(fc/fs)  \n",
    "        #np.convolve(td, MW, 'same')\n",
    "               \n",
    "        npad = len(MW) - 1\n",
    "        u_padded = np.pad(td, (npad//2, npad - npad//2), mode='constant')\n",
    "        cr = np.convolve(u_padded, MW, 'valid')\n",
    "        \n",
    "        TFmap.append(abs(cr))\n",
    "    return TFmap\n",
    "\n",
    "# -------------------------------- Feature_extration --------------------------------\n",
    "def Feature_extration(CSP_EEG,features=['coherence','entropy','skew','kurtosis']):\n",
    "    samplerate = 250\n",
    "    f1 = 1 \n",
    "    f2 = 60\n",
    "    fstep=1\n",
    "    Features = []\n",
    "\n",
    "    for Target_data in tqdm(range(len(CSP_EEG))):\n",
    "\n",
    "        Mix_features = []\n",
    "\n",
    "        # Coherence\n",
    "        if 'coherence' in features :\n",
    "            Data_ID_my_self_coherence = []\n",
    "            for compare_each in range(21):\n",
    "                for compare_after in range(compare_each+1,21):\n",
    "                    HZ_results = scipy.signal.coherence(CSP_EEG[Target_data][compare_each],CSP_EEG[Target_data][compare_after])\n",
    "                    Data_ID_my_self_coherence.extend(HZ_results[0][7:30])\n",
    "            Mix_features.extend(Data_ID_my_self_coherence)\n",
    "\n",
    "        # tfa_morlet\n",
    "        CSP_Morlet_EEG = []\n",
    "        CSP_Morlet_EEG_static = []\n",
    "        for Target_order_channel in range(21):\n",
    "            spec = tfa_morlet(CSP_EEG[Target_data,Target_order_channel,:], samplerate, f1, f2, fstep)\n",
    "            Mag = abs(np.array(spec))\n",
    "            spec = Mag[7:30]\n",
    "            CSP_Morlet_EEG.append(spec)\n",
    "\n",
    "            for hz in range(23):\n",
    "                for sec in range(4):\n",
    "                    feature_mix = []\n",
    "                    if 'entropy' in features :\n",
    "                        e_value = entropy(spec[hz][0+500*sec:500+500*sec])\n",
    "                        feature_mix.append(e_value)\n",
    "                    if 'skew' in features :\n",
    "                        s_value = skew(spec[hz][0+500*sec:500+500*sec])\n",
    "                        feature_mix.append(s_value)\n",
    "                    if 'kurtosis' in features :\n",
    "                        k_value = kurtosis(spec[hz][0+500*sec:500+500*sec])     \n",
    "                        feature_mix.append(k_value)\n",
    "                    CSP_Morlet_EEG_static.extend(feature_mix)\n",
    "        Mix_features.extend(CSP_Morlet_EEG_static)\n",
    "\n",
    "        Features.append(Mix_features)\n",
    "        \n",
    "    return np.array(Features)\n",
    "\n",
    "\n",
    "# -------------------------------- ML --------------------------------\n",
    "def Model_training(num_classes,Training_Features, Training_Data_label,Testing_Features,Testing_Data_label,Mode,Model_Path,cv_train = 5,times=10,cv_mode='GridSearchCV'):\n",
    "\n",
    "    \n",
    "    label_names = [str(i) for i in range(num_classes)]\n",
    "    predictions_all = []\n",
    "    predictions_f1 = []\n",
    "    predictions_acc = []\n",
    "    for Seed in tqdm(range(1,times+1)):\n",
    "        \n",
    "        normalizer = Normalizer(copy=True, norm='l2')\n",
    "        pca = PCA(n_components=100 , random_state = Seed)\n",
    "        STEPS = []   \n",
    "        STEPS.append(('normalizer',normalizer))\n",
    "        STEPS.append(('pca',pca))\n",
    "        \n",
    "        \n",
    "        if Mode == 'SVM' :\n",
    "            Mode_name = 'SVM'\n",
    "            svc = SVC( random_state = Seed , C = 100 , gamma = 0.1 , tol = 0.001 , kernel = 'rbf' ) \n",
    "            STEPS.append(('svm',svc))\n",
    "            if cv_mode =='GridSearchCV':\n",
    "                parameters = {\n",
    "                'svm__C': [100,500,1000],\n",
    "                'svm__gamma': [0.1, 'auto'],\n",
    "                'svm__tol':[0.0001]\n",
    "                }    \n",
    "            elif cv_mode =='RandomizedSearchCV':\n",
    "                parameters = {\n",
    "                'svm__C': range(100,1000,10),\n",
    "                'svm__gamma': [0.1, 'auto'],\n",
    "                'svm__tol':[0.0001]\n",
    "                }    \n",
    "\n",
    "        elif Mode == 'KNN' :\n",
    "            Mode_name = 'KNN'\n",
    "            knn = KNeighborsClassifier(algorithm = 'auto' , n_neighbors = 5 )\n",
    "            STEPS.append(('knn',knn))\n",
    "            if cv_mode =='GridSearchCV':\n",
    "                parameters = {\n",
    "                'knn__n_neighbors':[5,10,50],\n",
    "                'knn__weights':['distance']\n",
    "                }    \n",
    "            elif cv_mode =='RandomizedSearchCV':\n",
    "                parameters = {\n",
    "                'knn__n_neighbors':range(5,50,5),\n",
    "                'knn__weights':['distance']\n",
    "                } \n",
    "        elif Mode == 'LR':\n",
    "            Mode_name = 'LR'\n",
    "            LR = LogisticRegression( random_state = Seed , multi_class = 'auto' , solver='lbfgs', C = 1.0 , tol = 0.0001 ,max_iter=10000)\n",
    "            STEPS.append(('LR',LR))\n",
    "            if cv_mode =='GridSearchCV':\n",
    "                parameters = {\n",
    "                'LR__C': [100,500,1000],#[10,100,500,1000],\n",
    "                'LR__tol':[0.0001],#[0.0001,0.0000001],\n",
    "                'LR__dual': [False],#[True,False],\n",
    "                'LR__penalty':['l1'],#['l1', 'l2', 'elasticnet', 'none'],\n",
    "                'LR__solver': ['liblinear'] #['newton-cg', 'lbfgs', 'liblinear', 'sag', 'saga']\n",
    "                }  \n",
    "            elif cv_mode =='RandomizedSearchCV':\n",
    "                parameters = {\n",
    "                'LR__C': range(100,1000,50),\n",
    "                'LR__tol':[0.0001],#[0.0001,0.0000001],\n",
    "                'LR__dual': [False],#[True,False],\n",
    "                'LR__penalty':['l1'],#['l1', 'l2', 'elasticnet', 'none'],\n",
    "                'LR__solver': ['liblinear'] #['newton-cg', 'lbfgs', 'liblinear', 'sag', 'saga']\n",
    "                }  \n",
    "        elif Mode == 'DT':\n",
    "            Mode_name = 'DT'\n",
    "            DT= DecisionTreeClassifier( random_state = Seed , max_features = 'auto')\n",
    "            STEPS.append(('DT',DT))\n",
    "            if cv_mode =='GridSearchCV':\n",
    "                parameters = {\n",
    "                'DT__max_features' :[5,50,'auto'] #50,'auto',None\n",
    "                }    \n",
    "            elif cv_mode =='RandomizedSearchCV':\n",
    "                parameters = {\n",
    "                'DT__max_features' :range(5,50,5)\n",
    "                }\n",
    "        elif Mode == 'RF':\n",
    "            Mode_name = 'RF'\n",
    "            RF = RandomForestClassifier( random_state = Seed , oob_score = False , n_estimators = 100 , max_features='auto' , max_depth=None , min_samples_split = 2 , min_samples_leaf = 1 , max_leaf_nodes=None )\n",
    "            STEPS.append(('RF',RF))\n",
    "            if cv_mode =='GridSearchCV':\n",
    "                parameters = {\n",
    "                'RF__n_estimators':[5,10,50],\n",
    "                'RF__max_features' : [5,50,'auto']\n",
    "                }  \n",
    "            elif cv_mode =='RandomizedSearchCV':\n",
    "                parameters = {\n",
    "                'RF__n_estimators': range(5,50,5),\n",
    "                'RF__max_features' : range(5,50,5)\n",
    "                }  \n",
    "\n",
    "        elif Mode == 'ET':\n",
    "            Mode_name = 'ET'\n",
    "            ET = ExtraTreesClassifier( random_state = Seed , oob_score = False , n_estimators = 100 , max_features='auto' , max_depth=None , min_samples_split = 2 , min_samples_leaf = 1 , max_leaf_nodes=None )\n",
    "            STEPS.append(('ET',ET))\n",
    "            if cv_mode =='GridSearchCV':\n",
    "                parameters = {\n",
    "                'RF__n_estimators':[5,10,50],\n",
    "                'RF__max_features' : [5,50,'auto']\n",
    "                }\n",
    "            elif cv_mode =='RandomizedSearchCV':\n",
    "                parameters = {\n",
    "                'RF__n_estimators': range(5,50,5),\n",
    "                'RF__max_features' : range(5,50,5)\n",
    "                }\n",
    "                \n",
    "        elif Mode == 'GB' :\n",
    "            Mode_name = 'GB'\n",
    "            GB = GradientBoostingClassifier( random_state = Seed , learning_rate = 1.0 ,  n_estimators = 100 , max_leaf_nodes = None)\n",
    "            STEPS.append(('GB',GB))\n",
    "            if cv_mode =='GridSearchCV':\n",
    "                parameters = {\n",
    "                'GB__n_estimators':[5,10,50],\n",
    "                'GB__subsample':[0.5, 0.8],#subsample[0.5, 0.8]\n",
    "                'GB__learning_rate':[1.0]\n",
    "                }\n",
    "            elif cv_mode =='RandomizedSearchCV':\n",
    "                parameters = {\n",
    "                'GB__n_estimators':range(5,50,5),\n",
    "                'GB__subsample':range(0.5,0.8,0.1),\n",
    "                'GB__learning_rate':[1.0]\n",
    "                }\n",
    "                \n",
    "        elif Mode == 'Ada' :\n",
    "            Mode_name = 'Ada'\n",
    "            ada = AdaBoostClassifier( random_state = Seed , n_estimators = 100)\n",
    "            STEPS.append(('ada',ada))\n",
    "            if cv_mode =='GridSearchCV':\n",
    "                parameters = {\n",
    "                'ada__n_estimators':[5,10,50]\n",
    "                }\n",
    "            elif cv_mode =='RandomizedSearchCV':\n",
    "                parameters = {\n",
    "                'ada__n_estimators':range(5,50,5)\n",
    "                }\n",
    "\n",
    "\n",
    "        ML_filepath = Model_Path+str(Mode_name)\n",
    "        pred_path = Model_Path+str(Mode_name)+'_pred.csv'\n",
    "        f1_path = Model_Path+str(Mode_name)+'_f1.csv'\n",
    "        acc_path = Model_Path+str(Mode_name)+'_acc.csv'\n",
    "        Textpath = Model_Path+str(Mode_name)+'.txt'\n",
    "\n",
    "\n",
    "        print(Mode_name)\n",
    "\n",
    "\n",
    "        parameters['pca__n_components'] = [100,150,550,750]# n_components=5000 must be between 0 and min(n_samples, n_features)=761\n",
    "        ML_model = Pipeline(steps=STEPS) \n",
    "        tuned_parameters = [parameters]  \n",
    "        \n",
    "        # time-cost but high score\n",
    "        if cv_mode =='GridSearchCV':\n",
    "            model = GridSearchCV( ML_model, tuned_parameters, cv=cv_train , scoring='f1_weighted', verbose=1,return_train_score = True) # 'f1_macro' ,return_train_score = True\n",
    "        elif cv_mode =='RandomizedSearchCV':\n",
    "            model = RandomizedSearchCV( ML_model, tuned_parameters, cv=cv_train , scoring='f1_weighted', verbose=1,return_train_score = True) # 'f1_macro' ,return_train_score = True\n",
    "\n",
    "        \n",
    "        \n",
    "        model.fit(Training_Features, Training_Data_label)\n",
    "        joblib.dump(model, ML_filepath+'_'+str(Seed))\n",
    "        \n",
    "        print( \"best_score:%s\\n\"%model.best_score_ )\n",
    "        print( \"best_params:%s\"%model.best_params_ )\n",
    "            \n",
    "        predictions = model.predict(Testing_Features)\n",
    "        predictions_all.append(predictions)\n",
    "        \n",
    "        Classification_report = classification_report(Testing_Data_label, predictions, target_names=label_names ,digits=5)\n",
    "        Acc_score = accuracy_score(Testing_Data_label, predictions)\n",
    "        predictions_acc.append(Acc_score)\n",
    "        F1_score = f1_score(Testing_Data_label, predictions, average='weighted')\n",
    "        predictions_f1.append(F1_score)\n",
    "        \n",
    "        with open(Textpath,'a',encoding='utf-8') as file :\n",
    "            file.write(ML_filepath+'_'+str(Seed)+'\\n')\n",
    "            file.write(\"best_score:%s\\n\"%model.best_score_)\n",
    "            file.write(\"best_params:%s\"%model.best_params_)\n",
    "            file.write(Classification_report+'\\n\\n')\n",
    "        print(F1_score)\n",
    "    \n",
    "    \n",
    "    Preds_df = pd.DataFrame(predictions_all)\n",
    "    Acc_df = pd.DataFrame(predictions_acc)\n",
    "    F1_df = pd.DataFrame(predictions_f1)\n",
    "    Preds_df.to_csv(pred_path,encoding='utf-8')\n",
    "    F1_df.to_csv(f1_path,encoding='utf-8')\n",
    "#     Acc_df.to_csv(acc_path,encoding='utf-8')"
   ]
  },
  {
   "cell_type": "code",
   "execution_count": 291,
   "metadata": {},
   "outputs": [
    {
     "data": {
      "text/plain": [
       "0.6382978723404256"
      ]
     },
     "execution_count": 291,
     "metadata": {},
     "output_type": "execute_result"
    }
   ],
   "source": []
  },
  {
   "cell_type": "markdown",
   "metadata": {},
   "source": [
    "## Setting Path"
   ]
  },
  {
   "cell_type": "code",
   "execution_count": 2,
   "metadata": {},
   "outputs": [],
   "source": [
    "Input_data_path = 'D:/Record/Mne/'\n",
    "Output_data_path = 'D:/Record/Mne/Output_data_all/'"
   ]
  },
  {
   "cell_type": "markdown",
   "metadata": {},
   "source": [
    "## Defalut setting"
   ]
  },
  {
   "cell_type": "code",
   "execution_count": 3,
   "metadata": {},
   "outputs": [],
   "source": [
    "for new_dir in ['One_data','stroke_epilepsy_eeg_10_20','stroke_epilepsy_eeg','stroke_epilepsy_eeg_filter','stroke_no_epilepsy_eeg_10_20','stroke_no_epilepsy_eeg','stroke_no_epilepsy_eeg_filter']:\n",
    "    if not os.path.isdir(Output_data_path+new_dir):\n",
    "        os.mkdir(Output_data_path+new_dir)\n",
    "        \n",
    "stroke_epilepsy_eeg_path = Input_data_path+'stroke_epilepsy/'\n",
    "stroke_no_epilepsy_eeg_path = Input_data_path+'stroke_no_epilepsy/'\n",
    "\n",
    "Training_Data_sets = []\n",
    "Training_Data_names = []\n",
    "Training_Label = []\n",
    "\n",
    "Testing_Data_sets = []\n",
    "Testing_Data_names = []\n",
    "Testing_Label = []"
   ]
  },
  {
   "cell_type": "markdown",
   "metadata": {},
   "source": [
    "## Pre-proccessing"
   ]
  },
  {
   "cell_type": "code",
   "execution_count": 5,
   "metadata": {},
   "outputs": [
    {
     "name": "stderr",
     "output_type": "stream",
     "text": [
      "100%|██████████████████████████████████████████████████████████████████████████████| 437/437 [2:12:40<00:00, 18.22s/it]"
     ]
    },
    {
     "name": "stdout",
     "output_type": "stream",
     "text": [
      "Success:  363 / 437\n",
      "Fail:  74 / 437\n"
     ]
    },
    {
     "name": "stderr",
     "output_type": "stream",
     "text": [
      "\n"
     ]
    }
   ],
   "source": [
    "Success_Name_1,Fail_Name_1,Fail_Name_step_1,Training_Data_sets_1,Training_Data_names_1,Training_Label_1,Testing_Data_sets_1,Testing_Data_names_1,Testing_Label_1,stroke_epilepsy_how_long_data_1 = preprocessing(stroke_epilepsy_eeg_path,Output_data_path,10000,stroke='Y',train_year = ['2012','2013','2014','2015'],test_year = ['2016','2017'])"
   ]
  },
  {
   "cell_type": "code",
   "execution_count": 6,
   "metadata": {},
   "outputs": [
    {
     "name": "stderr",
     "output_type": "stream",
     "text": [
      "100%|██████████████████████████████████████████████████████████████████████████████| 927/927 [9:29:33<00:00, 36.86s/it]"
     ]
    },
    {
     "name": "stdout",
     "output_type": "stream",
     "text": [
      "Success:  774 / 927\n",
      "Fail:  153 / 927\n"
     ]
    },
    {
     "name": "stderr",
     "output_type": "stream",
     "text": [
      "\n"
     ]
    }
   ],
   "source": [
    "Success_Name_2,Fail_Name_2,Fail_Name_step_2,Training_Data_sets_2,Training_Data_names_2,Training_Label_2,Testing_Data_sets_2,Testing_Data_names_2,Testing_Label_2,stroke_epilepsy_how_long_data_2 = preprocessing(stroke_no_epilepsy_eeg_path,Output_data_path,10000,stroke='N',train_year = ['2012','2013','2014','2015'],test_year = ['2016','2017'])"
   ]
  },
  {
   "cell_type": "code",
   "execution_count": 8,
   "metadata": {},
   "outputs": [
    {
     "name": "stdout",
     "output_type": "stream",
     "text": [
      "245\n",
      "118\n",
      "516\n",
      "258\n"
     ]
    }
   ],
   "source": [
    "print(len(Training_Data_sets_1))\n",
    "print(len(Testing_Data_sets_1))\n",
    "print(len(Training_Data_sets_2))\n",
    "print(len(Testing_Data_sets_2))"
   ]
  },
  {
   "cell_type": "code",
   "execution_count": 9,
   "metadata": {},
   "outputs": [],
   "source": [
    "Training_Data = []\n",
    "Training_Data_label = []\n",
    "for data in Training_Data_sets_1 :\n",
    "    Training_Data.append(data)\n",
    "    Training_Data_label.append(1)\n",
    "for data in Training_Data_sets_2 :\n",
    "    Training_Data.append(data)\n",
    "    Training_Data_label.append(0)\n",
    "    \n",
    "Testing_Data = []\n",
    "Testing_Data_label = []\n",
    "for data in Testing_Data_sets_1 :\n",
    "    Testing_Data.append(data)\n",
    "    Testing_Data_label.append(1)\n",
    "for data in Testing_Data_sets_2 :\n",
    "    Testing_Data.append(data)\n",
    "    Testing_Data_label.append(0)"
   ]
  },
  {
   "cell_type": "markdown",
   "metadata": {},
   "source": [
    "## CSP"
   ]
  },
  {
   "cell_type": "code",
   "execution_count": 10,
   "metadata": {},
   "outputs": [],
   "source": [
    "csp = CSP(n_components=21, reg=None, log=None, norm_trace=False,transform_into='csp_space' ) # n_components 需調參數"
   ]
  },
  {
   "cell_type": "code",
   "execution_count": 11,
   "metadata": {},
   "outputs": [
    {
     "name": "stdout",
     "output_type": "stream",
     "text": [
      "Computing rank from data with rank=None\n",
      "    Using tolerance 0.00088 (2.2e-16 eps * 21 dim * 1.9e+11  max singular value)\n",
      "    Estimated rank (mag): 21\n",
      "    MAG: rank 21 computed from 21 data channels with 0 projectors\n",
      "Reducing data rank from 21 -> 21\n",
      "Estimating covariance using EMPIRICAL\n",
      "Done.\n",
      "Computing rank from data with rank=None\n",
      "    Using tolerance 0.00047 (2.2e-16 eps * 21 dim * 1e+11  max singular value)\n",
      "    Estimated rank (mag): 21\n",
      "    MAG: rank 21 computed from 21 data channels with 0 projectors\n",
      "Reducing data rank from 21 -> 21\n",
      "Estimating covariance using EMPIRICAL\n",
      "Done.\n"
     ]
    },
    {
     "data": {
      "text/plain": [
       "CSP(component_order='mutual_info', cov_est='concat', cov_method_params=None,\n",
       "  log=None, n_components=21, norm_trace=False, rank=None, reg=None,\n",
       "  transform_into='csp_space')"
      ]
     },
     "execution_count": 11,
     "metadata": {},
     "output_type": "execute_result"
    }
   ],
   "source": [
    "csp.fit(np.array(Training_Data), Training_Data_label) #shape (n_epochs, n_channels, n_times)"
   ]
  },
  {
   "cell_type": "code",
   "execution_count": 12,
   "metadata": {},
   "outputs": [
    {
     "data": {
      "text/html": [
       "\n",
       "<table class=\"table table-hover\">\n",
       "    <tr>\n",
       "        <th>Measurement date</th>\n",
       "<td>Unknown</td>\n",
       "    </tr>\n",
       "    <tr>\n",
       "        <th>Experimenter</th>\n",
       "<td>Unknown</td>\n",
       "    </tr>\n",
       "        <th>Participant</th>\n",
       "<td>Unknown</td>\n",
       "    </tr>\n",
       "    <tr>\n",
       "        <th>Digitized points</th>\n",
       "        <td>24 points</td>\n",
       "    </tr>\n",
       "    <tr>\n",
       "        <th>Good channels</th>\n",
       "        <td>0 magnetometer, 0 gradiometer,\n",
       "            and 21 EEG channels</td>\n",
       "    </tr>\n",
       "    <tr>\n",
       "        <th>Bad channels</th>\n",
       "        <td></td>\n",
       "        \n",
       "    </tr>\n",
       "    <tr>\n",
       "        <th>EOG channels</th>\n",
       "        <td>Not available</td>\n",
       "    </tr>\n",
       "    <tr>\n",
       "        <th>ECG channels</th>\n",
       "        <td>Not available</td>\n",
       "    <tr>\n",
       "        <th>Sampling frequency</th>\n",
       "        <td>256.00 Hz</td>\n",
       "    </tr>\n",
       "    <tr>\n",
       "        <th>Highpass</th>\n",
       "        <td>0.00 Hz</td>\n",
       "    </tr>\n",
       "     <tr>\n",
       "        <th>Lowpass</th>\n",
       "        <td>128.00 Hz</td>\n",
       "    </tr>\n",
       "</table>\n"
      ],
      "text/plain": [
       "<Info | 8 non-empty values\n",
       " bads: []\n",
       " ch_names: Fp1, Fp2, F7, F3, Fz, F4, F8, T3, C3, Cz, C4, T4, T5, P3, Pz, ...\n",
       " chs: 21 EEG\n",
       " custom_ref_applied: False\n",
       " dig: 24 items (3 Cardinal, 21 EEG)\n",
       " highpass: 0.0 Hz\n",
       " lowpass: 128.0 Hz\n",
       " meas_date: unspecified\n",
       " nchan: 21\n",
       " projs: []\n",
       " sfreq: 256.0 Hz\n",
       ">"
      ]
     },
     "execution_count": 12,
     "metadata": {},
     "output_type": "execute_result"
    }
   ],
   "source": [
    "ch_names = ['Fp1','Fp2','F7','F3','Fz','F4','F8','T3','C3','Cz','C4','T4','T5','P3','Pz','P4','T6','O1','O2','A1','A2']\n",
    "ch_types = ['eeg'] * 21\n",
    "info = mne.create_info(ch_names, ch_types=ch_types, sfreq=256)\n",
    "info.set_montage('standard_1020')"
   ]
  },
  {
   "cell_type": "code",
   "execution_count": 14,
   "metadata": {},
   "outputs": [
    {
     "data": {
      "image/png": "[encoded data removed]",
      "text/plain": [
       "<MNEFigure size 2376x158.4 with 22 Axes>"
      ]
     },
     "metadata": {
      "needs_background": "light"
     },
     "output_type": "display_data"
    }
   ],
   "source": [
    "CSP_plot = csp.plot_patterns(info)\n",
    "CSP_plot.savefig(Output_data_path+'CSP patterns.jpg')"
   ]
  },
  {
   "cell_type": "code",
   "execution_count": 15,
   "metadata": {},
   "outputs": [],
   "source": [
    "Training_Data_CSP = csp.transform(np.array(Training_Data))\n",
    "Testing_Data_CSP = csp.transform(np.array(Testing_Data))"
   ]
  },
  {
   "cell_type": "code",
   "execution_count": 16,
   "metadata": {},
   "outputs": [
    {
     "name": "stdout",
     "output_type": "stream",
     "text": [
      "(761, 21, 2000)\n",
      "(376, 21, 2000)\n"
     ]
    }
   ],
   "source": [
    "print(Training_Data_CSP.shape)\n",
    "print(Testing_Data_CSP.shape)"
   ]
  },
  {
   "cell_type": "markdown",
   "metadata": {},
   "source": [
    "## Features"
   ]
  },
  {
   "cell_type": "markdown",
   "metadata": {},
   "source": [
    "* 4 features"
   ]
  },
  {
   "cell_type": "code",
   "execution_count": 17,
   "metadata": {},
   "outputs": [
    {
     "name": "stderr",
     "output_type": "stream",
     "text": [
      "100%|████████████████████████████████████████████████████████████████████████████████| 761/761 [15:50<00:00,  1.25s/it]\n",
      "100%|████████████████████████████████████████████████████████████████████████████████| 376/376 [08:19<00:00,  1.33s/it]\n"
     ]
    }
   ],
   "source": [
    "Training_Features = Feature_extration(Training_Data_CSP,features=['coherence','entropy','skew','kurtosis'])\n",
    "Testing_Features = Feature_extration(Testing_Data_CSP,features=['coherence','entropy','skew','kurtosis'])"
   ]
  },
  {
   "cell_type": "code",
   "execution_count": 61,
   "metadata": {},
   "outputs": [
    {
     "data": {
      "text/plain": [
       "(761, 10626)"
      ]
     },
     "execution_count": 61,
     "metadata": {},
     "output_type": "execute_result"
    }
   ],
   "source": [
    "Training_Features.shape"
   ]
  },
  {
   "cell_type": "code",
   "execution_count": 48,
   "metadata": {},
   "outputs": [],
   "source": [
    "Save_features = 'D:/Record/Mne/Features/'\n",
    "np.save(file=Save_features+'Training_Features.npy', arr=Training_Features)\n",
    "np.save(file=Save_features+'Training_Data_label.npy', arr=np.array(Training_Data_label))\n",
    "\n",
    "np.save(file=Save_features+'Testing_Features.npy', arr=Testing_Features)\n",
    "np.save(file=Save_features+'Testing_Data_label.npy', arr=np.array(Testing_Data_label))"
   ]
  },
  {
   "cell_type": "markdown",
   "metadata": {},
   "source": [
    "## ML"
   ]
  },
  {
   "cell_type": "code",
   "execution_count": 294,
   "metadata": {},
   "outputs": [],
   "source": [
    "Mode = 'LR' # SVM KNN LR DT RF ET GB Ada\n",
    "times = 100\n",
    "num_classes = 2\n",
    "cv_mode = 'GridSearchCV' #'RandomizedSearchCV'\n",
    "\n",
    "Model_Path = 'D:/Record/Mne/Models/'+Mode+'/'\n",
    "if not os.path.isdir(Model_Path):\n",
    "    os.mkdir(Model_Path)"
   ]
  },
  {
   "cell_type": "code",
   "execution_count": 295,
   "metadata": {},
   "outputs": [
    {
     "name": "stderr",
     "output_type": "stream",
     "text": [
      "  0%|                                                                                          | 0/100 [00:00<?, ?it/s]"
     ]
    },
    {
     "name": "stdout",
     "output_type": "stream",
     "text": [
      "LR\n",
      "Fitting 5 folds for each of 10 candidates, totalling 50 fits\n"
     ]
    },
    {
     "name": "stderr",
     "output_type": "stream",
     "text": [
      "  1%|▊                                                                               | 1/100 [00:36<1:00:09, 36.46s/it]"
     ]
    },
    {
     "name": "stdout",
     "output_type": "stream",
     "text": [
      "best_score:0.6410480065701376\n",
      "\n",
      "best_params:{'pca__n_components': 550, 'LR__tol': 0.0001, 'LR__solver': 'liblinear', 'LR__penalty': 'l1', 'LR__dual': False, 'LR__C': 800}\n",
      "0.6113818246589496\n",
      "LR\n",
      "Fitting 5 folds for each of 10 candidates, totalling 50 fits\n"
     ]
    },
    {
     "name": "stderr",
     "output_type": "stream",
     "text": [
      "  2%|█▌                                                                              | 2/100 [01:17<1:01:41, 37.77s/it]"
     ]
    },
    {
     "name": "stdout",
     "output_type": "stream",
     "text": [
      "best_score:0.6423990837644603\n",
      "\n",
      "best_params:{'pca__n_components': 550, 'LR__tol': 0.0001, 'LR__solver': 'liblinear', 'LR__penalty': 'l1', 'LR__dual': False, 'LR__C': 250}\n",
      "0.6078326981634334\n",
      "LR\n",
      "Fitting 5 folds for each of 10 candidates, totalling 50 fits\n"
     ]
    },
    {
     "name": "stderr",
     "output_type": "stream",
     "text": [
      "  3%|██▍                                                                             | 3/100 [02:12<1:09:25, 42.94s/it]"
     ]
    },
    {
     "name": "stdout",
     "output_type": "stream",
     "text": [
      "best_score:0.6410273298608063\n",
      "\n",
      "best_params:{'pca__n_components': 550, 'LR__tol': 0.0001, 'LR__solver': 'liblinear', 'LR__penalty': 'l1', 'LR__dual': False, 'LR__C': 900}\n",
      "0.6113818246589496\n",
      "LR\n",
      "Fitting 5 folds for each of 10 candidates, totalling 50 fits\n"
     ]
    },
    {
     "name": "stderr",
     "output_type": "stream",
     "text": [
      "  4%|███▏                                                                            | 4/100 [02:46<1:04:23, 40.25s/it]"
     ]
    },
    {
     "name": "stdout",
     "output_type": "stream",
     "text": [
      "best_score:0.6453949517120253\n",
      "\n",
      "best_params:{'pca__n_components': 550, 'LR__tol': 0.0001, 'LR__solver': 'liblinear', 'LR__penalty': 'l1', 'LR__dual': False, 'LR__C': 200}\n",
      "0.6078326981634334\n",
      "LR\n",
      "Fitting 5 folds for each of 10 candidates, totalling 50 fits\n"
     ]
    },
    {
     "name": "stderr",
     "output_type": "stream",
     "text": [
      "  5%|████                                                                              | 5/100 [03:17<59:27, 37.55s/it]"
     ]
    },
    {
     "name": "stdout",
     "output_type": "stream",
     "text": [
      "best_score:0.6404236373143902\n",
      "\n",
      "best_params:{'pca__n_components': 550, 'LR__tol': 0.0001, 'LR__solver': 'liblinear', 'LR__penalty': 'l1', 'LR__dual': False, 'LR__C': 650}\n",
      "0.6113818246589496\n",
      "LR\n",
      "Fitting 5 folds for each of 10 candidates, totalling 50 fits\n"
     ]
    },
    {
     "name": "stderr",
     "output_type": "stream",
     "text": [
      "  6%|████▊                                                                           | 6/100 [04:07<1:04:54, 41.43s/it]"
     ]
    },
    {
     "name": "stdout",
     "output_type": "stream",
     "text": [
      "best_score:0.6465731614262915\n",
      "\n",
      "best_params:{'pca__n_components': 550, 'LR__tol': 0.0001, 'LR__solver': 'liblinear', 'LR__penalty': 'l1', 'LR__dual': False, 'LR__C': 200}\n",
      "0.6078326981634334\n",
      "LR\n",
      "Fitting 5 folds for each of 10 candidates, totalling 50 fits\n"
     ]
    },
    {
     "name": "stderr",
     "output_type": "stream",
     "text": [
      "  7%|█████▌                                                                          | 7/100 [04:42<1:01:09, 39.46s/it]"
     ]
    },
    {
     "name": "stdout",
     "output_type": "stream",
     "text": [
      "best_score:0.6370421321780061\n",
      "\n",
      "best_params:{'pca__n_components': 550, 'LR__tol': 0.0001, 'LR__solver': 'liblinear', 'LR__penalty': 'l1', 'LR__dual': False, 'LR__C': 100}\n",
      "0.6164262606258099\n",
      "LR\n",
      "Fitting 5 folds for each of 10 candidates, totalling 50 fits\n"
     ]
    },
    {
     "name": "stderr",
     "output_type": "stream",
     "text": [
      "  8%|██████▍                                                                         | 8/100 [05:35<1:06:38, 43.47s/it]"
     ]
    },
    {
     "name": "stdout",
     "output_type": "stream",
     "text": [
      "best_score:0.641584959971688\n",
      "\n",
      "best_params:{'pca__n_components': 550, 'LR__tol': 0.0001, 'LR__solver': 'liblinear', 'LR__penalty': 'l1', 'LR__dual': False, 'LR__C': 200}\n",
      "0.6078326981634334\n",
      "LR\n",
      "Fitting 5 folds for each of 10 candidates, totalling 50 fits\n",
      "best_score:0.641584959971688\n",
      "\n",
      "best_params:{'pca__n_components': 550, 'LR__tol': 0.0001, 'LR__solver': 'liblinear', 'LR__penalty': 'l1', 'LR__dual': False, 'LR__C': 200}\n"
     ]
    },
    {
     "name": "stderr",
     "output_type": "stream",
     "text": [
      "  9%|███████▏                                                                        | 9/100 [06:17<1:04:59, 42.85s/it]"
     ]
    },
    {
     "name": "stdout",
     "output_type": "stream",
     "text": [
      "0.6078326981634334\n",
      "LR\n",
      "Fitting 5 folds for each of 10 candidates, totalling 50 fits\n"
     ]
    },
    {
     "name": "stderr",
     "output_type": "stream",
     "text": [
      " 10%|███████▉                                                                       | 10/100 [06:55<1:02:15, 41.51s/it]"
     ]
    },
    {
     "name": "stdout",
     "output_type": "stream",
     "text": [
      "best_score:0.6356636182172133\n",
      "\n",
      "best_params:{'pca__n_components': 550, 'LR__tol': 0.0001, 'LR__solver': 'liblinear', 'LR__penalty': 'l1', 'LR__dual': False, 'LR__C': 500}\n",
      "0.6057901962367762\n",
      "LR\n",
      "Fitting 5 folds for each of 10 candidates, totalling 50 fits\n"
     ]
    },
    {
     "name": "stderr",
     "output_type": "stream",
     "text": [
      " 11%|████████▉                                                                        | 11/100 [07:32<59:27, 40.08s/it]"
     ]
    },
    {
     "name": "stdout",
     "output_type": "stream",
     "text": [
      "best_score:0.6423990837644603\n",
      "\n",
      "best_params:{'pca__n_components': 550, 'LR__tol': 0.0001, 'LR__solver': 'liblinear', 'LR__penalty': 'l1', 'LR__dual': False, 'LR__C': 250}\n",
      "0.6078326981634334\n",
      "LR\n",
      "Fitting 5 folds for each of 10 candidates, totalling 50 fits\n"
     ]
    },
    {
     "name": "stderr",
     "output_type": "stream",
     "text": [
      " 12%|█████████▋                                                                       | 12/100 [08:03<54:43, 37.31s/it]"
     ]
    },
    {
     "name": "stdout",
     "output_type": "stream",
     "text": [
      "best_score:0.6404236373143902\n",
      "\n",
      "best_params:{'pca__n_components': 550, 'LR__tol': 0.0001, 'LR__solver': 'liblinear', 'LR__penalty': 'l1', 'LR__dual': False, 'LR__C': 750}\n",
      "0.6113818246589496\n",
      "LR\n",
      "Fitting 5 folds for each of 10 candidates, totalling 50 fits\n"
     ]
    },
    {
     "name": "stderr",
     "output_type": "stream",
     "text": [
      " 13%|██████████▌                                                                      | 13/100 [08:40<54:04, 37.29s/it]"
     ]
    },
    {
     "name": "stdout",
     "output_type": "stream",
     "text": [
      "best_score:0.6423990837644603\n",
      "\n",
      "best_params:{'pca__n_components': 550, 'LR__tol': 0.0001, 'LR__solver': 'liblinear', 'LR__penalty': 'l1', 'LR__dual': False, 'LR__C': 250}\n",
      "0.6078326981634334\n",
      "LR\n",
      "Fitting 5 folds for each of 10 candidates, totalling 50 fits\n"
     ]
    },
    {
     "name": "stderr",
     "output_type": "stream",
     "text": [
      " 14%|███████████▎                                                                     | 14/100 [09:27<57:32, 40.14s/it]"
     ]
    },
    {
     "name": "stdout",
     "output_type": "stream",
     "text": [
      "best_score:0.6423990837644603\n",
      "\n",
      "best_params:{'pca__n_components': 550, 'LR__tol': 0.0001, 'LR__solver': 'liblinear', 'LR__penalty': 'l1', 'LR__dual': False, 'LR__C': 250}\n",
      "0.6078326981634334\n",
      "LR\n",
      "Fitting 5 folds for each of 10 candidates, totalling 50 fits\n"
     ]
    },
    {
     "name": "stderr",
     "output_type": "stream",
     "text": [
      " 15%|███████████▊                                                                   | 15/100 [10:20<1:02:28, 44.10s/it]"
     ]
    },
    {
     "name": "stdout",
     "output_type": "stream",
     "text": [
      "best_score:0.6410273298608063\n",
      "\n",
      "best_params:{'pca__n_components': 550, 'LR__tol': 0.0001, 'LR__solver': 'liblinear', 'LR__penalty': 'l1', 'LR__dual': False, 'LR__C': 900}\n",
      "0.6113818246589496\n",
      "LR\n",
      "Fitting 5 folds for each of 10 candidates, totalling 50 fits\n"
     ]
    },
    {
     "name": "stderr",
     "output_type": "stream",
     "text": [
      " 16%|████████████▋                                                                  | 16/100 [11:09<1:03:52, 45.62s/it]"
     ]
    },
    {
     "name": "stdout",
     "output_type": "stream",
     "text": [
      "best_score:0.6404236373143902\n",
      "\n",
      "best_params:{'pca__n_components': 550, 'LR__tol': 0.0001, 'LR__solver': 'liblinear', 'LR__penalty': 'l1', 'LR__dual': False, 'LR__C': 650}\n",
      "0.6113818246589496\n",
      "LR\n",
      "Fitting 5 folds for each of 10 candidates, totalling 50 fits\n"
     ]
    },
    {
     "name": "stderr",
     "output_type": "stream",
     "text": [
      " 17%|█████████████▍                                                                 | 17/100 [12:03<1:06:33, 48.11s/it]"
     ]
    },
    {
     "name": "stdout",
     "output_type": "stream",
     "text": [
      "best_score:0.6393962719010791\n",
      "\n",
      "best_params:{'pca__n_components': 550, 'LR__tol': 0.0001, 'LR__solver': 'liblinear', 'LR__penalty': 'l1', 'LR__dual': False, 'LR__C': 850}\n",
      "0.6113818246589496\n",
      "LR\n",
      "Fitting 5 folds for each of 10 candidates, totalling 50 fits\n"
     ]
    },
    {
     "name": "stderr",
     "output_type": "stream",
     "text": [
      " 18%|██████████████▏                                                                | 18/100 [12:47<1:04:07, 46.92s/it]"
     ]
    },
    {
     "name": "stdout",
     "output_type": "stream",
     "text": [
      "best_score:0.6393962719010791\n",
      "\n",
      "best_params:{'pca__n_components': 550, 'LR__tol': 0.0001, 'LR__solver': 'liblinear', 'LR__penalty': 'l1', 'LR__dual': False, 'LR__C': 900}\n",
      "0.6113818246589496\n",
      "LR\n",
      "Fitting 5 folds for each of 10 candidates, totalling 50 fits\n"
     ]
    },
    {
     "name": "stderr",
     "output_type": "stream",
     "text": [
      " 19%|███████████████▍                                                                 | 19/100 [13:21<58:09, 43.08s/it]"
     ]
    },
    {
     "name": "stdout",
     "output_type": "stream",
     "text": [
      "best_score:0.638389583197099\n",
      "\n",
      "best_params:{'pca__n_components': 550, 'LR__tol': 0.0001, 'LR__solver': 'liblinear', 'LR__penalty': 'l1', 'LR__dual': False, 'LR__C': 800}\n",
      "0.6113818246589496\n",
      "LR\n",
      "Fitting 5 folds for each of 10 candidates, totalling 50 fits\n",
      "best_score:0.6390090629884134\n",
      "\n",
      "best_params:{'pca__n_components': 550, 'LR__tol': 0.0001, 'LR__solver': 'liblinear', 'LR__penalty': 'l1', 'LR__dual': False, 'LR__C': 300}\n"
     ]
    },
    {
     "name": "stderr",
     "output_type": "stream",
     "text": [
      " 20%|███████████████▊                                                               | 20/100 [14:18<1:02:59, 47.25s/it]"
     ]
    },
    {
     "name": "stdout",
     "output_type": "stream",
     "text": [
      "0.6057901962367762\n",
      "LR\n",
      "Fitting 5 folds for each of 10 candidates, totalling 50 fits\n"
     ]
    },
    {
     "name": "stderr",
     "output_type": "stream",
     "text": [
      " 21%|█████████████████                                                                | 21/100 [14:57<58:54, 44.74s/it]"
     ]
    },
    {
     "name": "stdout",
     "output_type": "stream",
     "text": [
      "best_score:0.6453949517120253\n",
      "\n",
      "best_params:{'pca__n_components': 550, 'LR__tol': 0.0001, 'LR__solver': 'liblinear', 'LR__penalty': 'l1', 'LR__dual': False, 'LR__C': 200}\n",
      "0.6078326981634334\n",
      "LR\n",
      "Fitting 5 folds for each of 10 candidates, totalling 50 fits\n"
     ]
    },
    {
     "name": "stderr",
     "output_type": "stream",
     "text": [
      " 22%|█████████████████▊                                                               | 22/100 [15:32<54:08, 41.65s/it]"
     ]
    },
    {
     "name": "stdout",
     "output_type": "stream",
     "text": [
      "best_score:0.6353530522371571\n",
      "\n",
      "best_params:{'pca__n_components': 550, 'LR__tol': 0.0001, 'LR__solver': 'liblinear', 'LR__penalty': 'l1', 'LR__dual': False, 'LR__C': 550}\n",
      "0.6093276571383328\n",
      "LR\n",
      "Fitting 5 folds for each of 10 candidates, totalling 50 fits\n"
     ]
    },
    {
     "name": "stderr",
     "output_type": "stream",
     "text": [
      " 23%|██████████████████▏                                                            | 23/100 [16:40<1:03:40, 49.62s/it]"
     ]
    },
    {
     "name": "stdout",
     "output_type": "stream",
     "text": [
      "best_score:0.6404236373143902\n",
      "\n",
      "best_params:{'pca__n_components': 550, 'LR__tol': 0.0001, 'LR__solver': 'liblinear', 'LR__penalty': 'l1', 'LR__dual': False, 'LR__C': 700}\n",
      "0.6113818246589496\n",
      "LR\n",
      "Fitting 5 folds for each of 10 candidates, totalling 50 fits\n"
     ]
    },
    {
     "name": "stderr",
     "output_type": "stream",
     "text": [
      " 24%|██████████████████▉                                                            | 24/100 [17:30<1:03:14, 49.93s/it]"
     ]
    },
    {
     "name": "stdout",
     "output_type": "stream",
     "text": [
      "best_score:0.6423990837644603\n",
      "\n",
      "best_params:{'pca__n_components': 550, 'LR__tol': 0.0001, 'LR__solver': 'liblinear', 'LR__penalty': 'l1', 'LR__dual': False, 'LR__C': 250}\n",
      "0.6078326981634334\n",
      "LR\n",
      "Fitting 5 folds for each of 10 candidates, totalling 50 fits\n",
      "best_score:0.6453949517120253\n",
      "\n",
      "best_params:{'pca__n_components': 550, 'LR__tol': 0.0001, 'LR__solver': 'liblinear', 'LR__penalty': 'l1', 'LR__dual': False, 'LR__C': 200}\n"
     ]
    },
    {
     "name": "stderr",
     "output_type": "stream",
     "text": [
      " 25%|███████████████████▊                                                           | 25/100 [18:21<1:02:44, 50.20s/it]"
     ]
    },
    {
     "name": "stdout",
     "output_type": "stream",
     "text": [
      "0.6078326981634334\n",
      "LR\n",
      "Fitting 5 folds for each of 10 candidates, totalling 50 fits\n"
     ]
    },
    {
     "name": "stderr",
     "output_type": "stream",
     "text": [
      " 26%|█████████████████████                                                            | 26/100 [19:02<58:26, 47.39s/it]"
     ]
    },
    {
     "name": "stdout",
     "output_type": "stream",
     "text": [
      "best_score:0.6336673893841074\n",
      "\n",
      "best_params:{'pca__n_components': 550, 'LR__tol': 0.0001, 'LR__solver': 'liblinear', 'LR__penalty': 'l1', 'LR__dual': False, 'LR__C': 650}\n",
      "0.6113818246589496\n",
      "LR\n",
      "Fitting 5 folds for each of 10 candidates, totalling 50 fits\n"
     ]
    },
    {
     "name": "stderr",
     "output_type": "stream",
     "text": [
      " 27%|█████████████████████▊                                                           | 27/100 [19:51<58:17, 47.91s/it]"
     ]
    },
    {
     "name": "stdout",
     "output_type": "stream",
     "text": [
      "best_score:0.6393962719010791\n",
      "\n",
      "best_params:{'pca__n_components': 550, 'LR__tol': 0.0001, 'LR__solver': 'liblinear', 'LR__penalty': 'l1', 'LR__dual': False, 'LR__C': 850}\n",
      "0.6113818246589496\n",
      "LR\n",
      "Fitting 5 folds for each of 10 candidates, totalling 50 fits\n"
     ]
    },
    {
     "name": "stderr",
     "output_type": "stream",
     "text": [
      " 28%|██████████████████████▋                                                          | 28/100 [20:34<55:29, 46.24s/it]"
     ]
    },
    {
     "name": "stdout",
     "output_type": "stream",
     "text": [
      "best_score:0.6404236373143902\n",
      "\n",
      "best_params:{'pca__n_components': 550, 'LR__tol': 0.0001, 'LR__solver': 'liblinear', 'LR__penalty': 'l1', 'LR__dual': False, 'LR__C': 800}\n",
      "0.6113818246589496\n",
      "LR\n",
      "Fitting 5 folds for each of 10 candidates, totalling 50 fits\n"
     ]
    },
    {
     "name": "stderr",
     "output_type": "stream",
     "text": [
      " 29%|███████████████████████▍                                                         | 29/100 [21:15<52:55, 44.73s/it]"
     ]
    },
    {
     "name": "stdout",
     "output_type": "stream",
     "text": [
      "best_score:0.6393962719010791\n",
      "\n",
      "best_params:{'pca__n_components': 550, 'LR__tol': 0.0001, 'LR__solver': 'liblinear', 'LR__penalty': 'l1', 'LR__dual': False, 'LR__C': 800}\n",
      "0.6113818246589496\n",
      "LR\n",
      "Fitting 5 folds for each of 10 candidates, totalling 50 fits\n"
     ]
    },
    {
     "name": "stderr",
     "output_type": "stream",
     "text": [
      " 30%|████████████████████████▎                                                        | 30/100 [21:55<50:45, 43.51s/it]"
     ]
    },
    {
     "name": "stdout",
     "output_type": "stream",
     "text": [
      "best_score:0.6393962719010791\n",
      "\n",
      "best_params:{'pca__n_components': 550, 'LR__tol': 0.0001, 'LR__solver': 'liblinear', 'LR__penalty': 'l1', 'LR__dual': False, 'LR__C': 750}\n",
      "0.6113818246589496\n",
      "LR\n",
      "Fitting 5 folds for each of 10 candidates, totalling 50 fits\n"
     ]
    },
    {
     "name": "stderr",
     "output_type": "stream",
     "text": [
      " 31%|█████████████████████████                                                        | 31/100 [22:49<53:27, 46.49s/it]"
     ]
    },
    {
     "name": "stdout",
     "output_type": "stream",
     "text": [
      "best_score:0.6404236373143902\n",
      "\n",
      "best_params:{'pca__n_components': 550, 'LR__tol': 0.0001, 'LR__solver': 'liblinear', 'LR__penalty': 'l1', 'LR__dual': False, 'LR__C': 800}\n",
      "0.6113818246589496\n",
      "LR\n",
      "Fitting 5 folds for each of 10 candidates, totalling 50 fits\n"
     ]
    },
    {
     "name": "stderr",
     "output_type": "stream",
     "text": [
      " 32%|█████████████████████████▉                                                       | 32/100 [23:37<53:18, 47.04s/it]"
     ]
    },
    {
     "name": "stdout",
     "output_type": "stream",
     "text": [
      "best_score:0.6423990837644603\n",
      "\n",
      "best_params:{'pca__n_components': 550, 'LR__tol': 0.0001, 'LR__solver': 'liblinear', 'LR__penalty': 'l1', 'LR__dual': False, 'LR__C': 250}\n",
      "0.6078326981634334\n",
      "LR\n",
      "Fitting 5 folds for each of 10 candidates, totalling 50 fits\n"
     ]
    },
    {
     "name": "stderr",
     "output_type": "stream",
     "text": [
      " 33%|██████████████████████████▋                                                      | 33/100 [24:29<54:00, 48.37s/it]"
     ]
    },
    {
     "name": "stdout",
     "output_type": "stream",
     "text": [
      "best_score:0.6423990837644603\n",
      "\n",
      "best_params:{'pca__n_components': 550, 'LR__tol': 0.0001, 'LR__solver': 'liblinear', 'LR__penalty': 'l1', 'LR__dual': False, 'LR__C': 250}\n",
      "0.6078326981634334\n",
      "LR\n",
      "Fitting 5 folds for each of 10 candidates, totalling 50 fits\n"
     ]
    },
    {
     "name": "stderr",
     "output_type": "stream",
     "text": [
      " 34%|███████████████████████████▌                                                     | 34/100 [25:00<47:41, 43.36s/it]"
     ]
    },
    {
     "name": "stdout",
     "output_type": "stream",
     "text": [
      "best_score:0.6353530522371571\n",
      "\n",
      "best_params:{'pca__n_components': 550, 'LR__tol': 0.0001, 'LR__solver': 'liblinear', 'LR__penalty': 'l1', 'LR__dual': False, 'LR__C': 600}\n",
      "0.6078326981634334\n",
      "LR\n",
      "Fitting 5 folds for each of 10 candidates, totalling 50 fits\n"
     ]
    },
    {
     "name": "stderr",
     "output_type": "stream",
     "text": [
      " 35%|████████████████████████████▎                                                    | 35/100 [25:32<43:06, 39.80s/it]"
     ]
    },
    {
     "name": "stdout",
     "output_type": "stream",
     "text": [
      "best_score:0.6410273298608063\n",
      "\n",
      "best_params:{'pca__n_components': 550, 'LR__tol': 0.0001, 'LR__solver': 'liblinear', 'LR__penalty': 'l1', 'LR__dual': False, 'LR__C': 900}\n",
      "0.6113818246589496\n",
      "LR\n",
      "Fitting 5 folds for each of 10 candidates, totalling 50 fits\n"
     ]
    },
    {
     "name": "stderr",
     "output_type": "stream",
     "text": [
      " 36%|█████████████████████████████▏                                                   | 36/100 [26:09<41:35, 38.99s/it]"
     ]
    },
    {
     "name": "stdout",
     "output_type": "stream",
     "text": [
      "best_score:0.6393962719010791\n",
      "\n",
      "best_params:{'pca__n_components': 550, 'LR__tol': 0.0001, 'LR__solver': 'liblinear', 'LR__penalty': 'l1', 'LR__dual': False, 'LR__C': 850}\n",
      "0.6113818246589496\n",
      "LR\n",
      "Fitting 5 folds for each of 10 candidates, totalling 50 fits\n"
     ]
    },
    {
     "name": "stderr",
     "output_type": "stream",
     "text": [
      " 37%|█████████████████████████████▉                                                   | 37/100 [26:55<43:08, 41.09s/it]"
     ]
    },
    {
     "name": "stdout",
     "output_type": "stream",
     "text": [
      "best_score:0.6370421321780061\n",
      "\n",
      "best_params:{'pca__n_components': 550, 'LR__tol': 0.0001, 'LR__solver': 'liblinear', 'LR__penalty': 'l1', 'LR__dual': False, 'LR__C': 100}\n",
      "0.6164262606258099\n",
      "LR\n",
      "Fitting 5 folds for each of 10 candidates, totalling 50 fits\n"
     ]
    },
    {
     "name": "stderr",
     "output_type": "stream",
     "text": [
      " 38%|██████████████████████████████▊                                                  | 38/100 [27:46<45:23, 43.93s/it]"
     ]
    },
    {
     "name": "stdout",
     "output_type": "stream",
     "text": [
      "best_score:0.6393962719010791\n",
      "\n",
      "best_params:{'pca__n_components': 550, 'LR__tol': 0.0001, 'LR__solver': 'liblinear', 'LR__penalty': 'l1', 'LR__dual': False, 'LR__C': 800}\n",
      "0.6113818246589496\n",
      "LR\n",
      "Fitting 5 folds for each of 10 candidates, totalling 50 fits\n"
     ]
    },
    {
     "name": "stderr",
     "output_type": "stream",
     "text": [
      " 39%|███████████████████████████████▌                                                 | 39/100 [28:30<44:56, 44.20s/it]"
     ]
    },
    {
     "name": "stdout",
     "output_type": "stream",
     "text": [
      "best_score:0.6390090629884134\n",
      "\n",
      "best_params:{'pca__n_components': 550, 'LR__tol': 0.0001, 'LR__solver': 'liblinear', 'LR__penalty': 'l1', 'LR__dual': False, 'LR__C': 300}\n",
      "0.6057901962367762\n",
      "LR\n",
      "Fitting 5 folds for each of 10 candidates, totalling 50 fits\n",
      "best_score:0.6370421321780061\n",
      "\n",
      "best_params:{'pca__n_components': 550, 'LR__tol': 0.0001, 'LR__solver': 'liblinear', 'LR__penalty': 'l1', 'LR__dual': False, 'LR__C': 100}\n"
     ]
    },
    {
     "name": "stderr",
     "output_type": "stream",
     "text": [
      " 40%|████████████████████████████████▍                                                | 40/100 [29:06<41:39, 41.66s/it]"
     ]
    },
    {
     "name": "stdout",
     "output_type": "stream",
     "text": [
      "0.6164262606258099\n",
      "LR\n",
      "Fitting 5 folds for each of 10 candidates, totalling 50 fits\n"
     ]
    },
    {
     "name": "stderr",
     "output_type": "stream",
     "text": [
      " 41%|█████████████████████████████████▏                                               | 41/100 [29:43<39:27, 40.14s/it]"
     ]
    },
    {
     "name": "stdout",
     "output_type": "stream",
     "text": [
      "best_score:0.6393962719010791\n",
      "\n",
      "best_params:{'pca__n_components': 550, 'LR__tol': 0.0001, 'LR__solver': 'liblinear', 'LR__penalty': 'l1', 'LR__dual': False, 'LR__C': 750}\n",
      "0.6113818246589496\n",
      "LR\n",
      "Fitting 5 folds for each of 10 candidates, totalling 50 fits\n"
     ]
    },
    {
     "name": "stderr",
     "output_type": "stream",
     "text": [
      " 42%|██████████████████████████████████                                               | 42/100 [30:20<38:00, 39.32s/it]"
     ]
    },
    {
     "name": "stdout",
     "output_type": "stream",
     "text": [
      "best_score:0.6393962719010791\n",
      "\n",
      "best_params:{'pca__n_components': 550, 'LR__tol': 0.0001, 'LR__solver': 'liblinear', 'LR__penalty': 'l1', 'LR__dual': False, 'LR__C': 850}\n",
      "0.6113818246589496\n",
      "LR\n",
      "Fitting 5 folds for each of 10 candidates, totalling 50 fits\n"
     ]
    },
    {
     "name": "stderr",
     "output_type": "stream",
     "text": [
      " 43%|██████████████████████████████████▊                                              | 43/100 [30:54<35:48, 37.70s/it]"
     ]
    },
    {
     "name": "stdout",
     "output_type": "stream",
     "text": [
      "best_score:0.6410273298608063\n",
      "\n",
      "best_params:{'pca__n_components': 550, 'LR__tol': 0.0001, 'LR__solver': 'liblinear', 'LR__penalty': 'l1', 'LR__dual': False, 'LR__C': 850}\n",
      "0.6113818246589496\n",
      "LR\n",
      "Fitting 5 folds for each of 10 candidates, totalling 50 fits\n"
     ]
    },
    {
     "name": "stderr",
     "output_type": "stream",
     "text": [
      " 44%|███████████████████████████████████▋                                             | 44/100 [31:44<38:44, 41.51s/it]"
     ]
    },
    {
     "name": "stdout",
     "output_type": "stream",
     "text": [
      "best_score:0.6390090629884134\n",
      "\n",
      "best_params:{'pca__n_components': 550, 'LR__tol': 0.0001, 'LR__solver': 'liblinear', 'LR__penalty': 'l1', 'LR__dual': False, 'LR__C': 300}\n",
      "0.6057901962367762\n",
      "LR\n",
      "Fitting 5 folds for each of 10 candidates, totalling 50 fits\n"
     ]
    },
    {
     "name": "stderr",
     "output_type": "stream",
     "text": [
      " 45%|████████████████████████████████████▍                                            | 45/100 [32:12<34:07, 37.22s/it]"
     ]
    },
    {
     "name": "stdout",
     "output_type": "stream",
     "text": [
      "best_score:0.6393962719010791\n",
      "\n",
      "best_params:{'pca__n_components': 550, 'LR__tol': 0.0001, 'LR__solver': 'liblinear', 'LR__penalty': 'l1', 'LR__dual': False, 'LR__C': 700}\n",
      "0.6113818246589496\n",
      "LR\n",
      "Fitting 5 folds for each of 10 candidates, totalling 50 fits\n"
     ]
    },
    {
     "name": "stderr",
     "output_type": "stream",
     "text": [
      " 46%|█████████████████████████████████████▎                                           | 46/100 [32:37<30:18, 33.67s/it]"
     ]
    },
    {
     "name": "stdout",
     "output_type": "stream",
     "text": [
      "best_score:0.6353530522371571\n",
      "\n",
      "best_params:{'pca__n_components': 550, 'LR__tol': 0.0001, 'LR__solver': 'liblinear', 'LR__penalty': 'l1', 'LR__dual': False, 'LR__C': 550}\n",
      "0.6093276571383328\n",
      "LR\n",
      "Fitting 5 folds for each of 10 candidates, totalling 50 fits\n"
     ]
    },
    {
     "name": "stderr",
     "output_type": "stream",
     "text": [
      " 47%|██████████████████████████████████████                                           | 47/100 [33:09<29:16, 33.13s/it]"
     ]
    },
    {
     "name": "stdout",
     "output_type": "stream",
     "text": [
      "best_score:0.6103320417588933\n",
      "\n",
      "best_params:{'pca__n_components': 100, 'LR__tol': 0.0001, 'LR__solver': 'liblinear', 'LR__penalty': 'l1', 'LR__dual': False, 'LR__C': 150}\n",
      "0.602553161256802\n",
      "LR\n",
      "Fitting 5 folds for each of 10 candidates, totalling 50 fits\n"
     ]
    },
    {
     "name": "stderr",
     "output_type": "stream",
     "text": [
      " 48%|██████████████████████████████████████▉                                          | 48/100 [33:56<32:24, 37.40s/it]"
     ]
    },
    {
     "name": "stdout",
     "output_type": "stream",
     "text": [
      "best_score:0.6410273298608063\n",
      "\n",
      "best_params:{'pca__n_components': 550, 'LR__tol': 0.0001, 'LR__solver': 'liblinear', 'LR__penalty': 'l1', 'LR__dual': False, 'LR__C': 850}\n",
      "0.6113818246589496\n",
      "LR\n",
      "Fitting 5 folds for each of 10 candidates, totalling 50 fits\n"
     ]
    },
    {
     "name": "stderr",
     "output_type": "stream",
     "text": [
      " 49%|███████████████████████████████████████▋                                         | 49/100 [34:38<33:00, 38.82s/it]"
     ]
    },
    {
     "name": "stdout",
     "output_type": "stream",
     "text": [
      "best_score:0.6423990837644603\n",
      "\n",
      "best_params:{'pca__n_components': 550, 'LR__tol': 0.0001, 'LR__solver': 'liblinear', 'LR__penalty': 'l1', 'LR__dual': False, 'LR__C': 250}\n",
      "0.6078326981634334\n",
      "LR\n",
      "Fitting 5 folds for each of 10 candidates, totalling 50 fits\n"
     ]
    },
    {
     "name": "stderr",
     "output_type": "stream",
     "text": [
      " 50%|████████████████████████████████████████▌                                        | 50/100 [35:18<32:35, 39.10s/it]"
     ]
    },
    {
     "name": "stdout",
     "output_type": "stream",
     "text": [
      "best_score:0.6373492810702629\n",
      "\n",
      "best_params:{'pca__n_components': 550, 'LR__tol': 0.0001, 'LR__solver': 'liblinear', 'LR__penalty': 'l1', 'LR__dual': False, 'LR__C': 500}\n",
      "0.6057901962367762\n",
      "LR\n",
      "Fitting 5 folds for each of 10 candidates, totalling 50 fits\n"
     ]
    },
    {
     "name": "stderr",
     "output_type": "stream",
     "text": [
      " 51%|█████████████████████████████████████████▎                                       | 51/100 [36:04<33:32, 41.06s/it]"
     ]
    },
    {
     "name": "stdout",
     "output_type": "stream",
     "text": [
      "best_score:0.638389583197099\n",
      "\n",
      "best_params:{'pca__n_components': 550, 'LR__tol': 0.0001, 'LR__solver': 'liblinear', 'LR__penalty': 'l1', 'LR__dual': False, 'LR__C': 900}\n",
      "0.6149086906077852\n",
      "LR\n",
      "Fitting 5 folds for each of 10 candidates, totalling 50 fits\n"
     ]
    },
    {
     "name": "stderr",
     "output_type": "stream",
     "text": [
      " 52%|██████████████████████████████████████████                                       | 52/100 [36:47<33:21, 41.69s/it]"
     ]
    },
    {
     "name": "stdout",
     "output_type": "stream",
     "text": [
      "best_score:0.6423990837644603\n",
      "\n",
      "best_params:{'pca__n_components': 550, 'LR__tol': 0.0001, 'LR__solver': 'liblinear', 'LR__penalty': 'l1', 'LR__dual': False, 'LR__C': 250}\n",
      "0.6078326981634334\n",
      "LR\n",
      "Fitting 5 folds for each of 10 candidates, totalling 50 fits\n"
     ]
    },
    {
     "name": "stderr",
     "output_type": "stream",
     "text": [
      " 53%|██████████████████████████████████████████▉                                      | 53/100 [37:26<32:01, 40.88s/it]"
     ]
    },
    {
     "name": "stdout",
     "output_type": "stream",
     "text": [
      "best_score:0.641584959971688\n",
      "\n",
      "best_params:{'pca__n_components': 550, 'LR__tol': 0.0001, 'LR__solver': 'liblinear', 'LR__penalty': 'l1', 'LR__dual': False, 'LR__C': 200}\n",
      "0.6078326981634334\n",
      "LR\n",
      "Fitting 5 folds for each of 10 candidates, totalling 50 fits\n"
     ]
    },
    {
     "name": "stderr",
     "output_type": "stream",
     "text": [
      " 54%|███████████████████████████████████████████▋                                     | 54/100 [38:12<32:34, 42.49s/it]"
     ]
    },
    {
     "name": "stdout",
     "output_type": "stream",
     "text": [
      "best_score:0.637284755937763\n",
      "\n",
      "best_params:{'pca__n_components': 550, 'LR__tol': 0.0001, 'LR__solver': 'liblinear', 'LR__penalty': 'l1', 'LR__dual': False, 'LR__C': 300}\n",
      "0.6057901962367762\n",
      "LR\n",
      "Fitting 5 folds for each of 10 candidates, totalling 50 fits\n"
     ]
    },
    {
     "name": "stderr",
     "output_type": "stream",
     "text": [
      " 55%|████████████████████████████████████████████▌                                    | 55/100 [38:54<31:38, 42.19s/it]"
     ]
    },
    {
     "name": "stdout",
     "output_type": "stream",
     "text": [
      "best_score:0.6465731614262915\n",
      "\n",
      "best_params:{'pca__n_components': 550, 'LR__tol': 0.0001, 'LR__solver': 'liblinear', 'LR__penalty': 'l1', 'LR__dual': False, 'LR__C': 200}\n",
      "0.6078326981634334\n",
      "LR\n",
      "Fitting 5 folds for each of 10 candidates, totalling 50 fits\n"
     ]
    },
    {
     "name": "stderr",
     "output_type": "stream",
     "text": [
      " 56%|█████████████████████████████████████████████▎                                   | 56/100 [39:38<31:27, 42.89s/it]"
     ]
    },
    {
     "name": "stdout",
     "output_type": "stream",
     "text": [
      "best_score:0.6396337014049468\n",
      "\n",
      "best_params:{'pca__n_components': 550, 'LR__tol': 0.0001, 'LR__solver': 'liblinear', 'LR__penalty': 'l1', 'LR__dual': False, 'LR__C': 300}\n",
      "0.6057901962367762\n",
      "LR\n",
      "Fitting 5 folds for each of 10 candidates, totalling 50 fits\n"
     ]
    },
    {
     "name": "stderr",
     "output_type": "stream",
     "text": [
      " 57%|██████████████████████████████████████████████▏                                  | 57/100 [40:25<31:35, 44.09s/it]"
     ]
    },
    {
     "name": "stdout",
     "output_type": "stream",
     "text": [
      "best_score:0.6393962719010791\n",
      "\n",
      "best_params:{'pca__n_components': 550, 'LR__tol': 0.0001, 'LR__solver': 'liblinear', 'LR__penalty': 'l1', 'LR__dual': False, 'LR__C': 950}\n",
      "0.6149086906077852\n",
      "LR\n",
      "Fitting 5 folds for each of 10 candidates, totalling 50 fits\n"
     ]
    },
    {
     "name": "stderr",
     "output_type": "stream",
     "text": [
      " 58%|██████████████████████████████████████████████▉                                  | 58/100 [40:50<26:55, 38.46s/it]"
     ]
    },
    {
     "name": "stdout",
     "output_type": "stream",
     "text": [
      "best_score:0.6157873854421485\n",
      "\n",
      "best_params:{'pca__n_components': 150, 'LR__tol': 0.0001, 'LR__solver': 'liblinear', 'LR__penalty': 'l1', 'LR__dual': False, 'LR__C': 600}\n",
      "0.6037445766178942\n",
      "LR\n",
      "Fitting 5 folds for each of 10 candidates, totalling 50 fits\n",
      "best_score:0.6055991066710844\n",
      "\n",
      "best_params:{'pca__n_components': 100, 'LR__tol': 0.0001, 'LR__solver': 'liblinear', 'LR__penalty': 'l1', 'LR__dual': False, 'LR__C': 700}\n"
     ]
    },
    {
     "name": "stderr",
     "output_type": "stream",
     "text": [
      " 59%|███████████████████████████████████████████████▊                                 | 59/100 [41:08<21:56, 32.12s/it]"
     ]
    },
    {
     "name": "stdout",
     "output_type": "stream",
     "text": [
      "0.6081305834768892\n",
      "LR\n",
      "Fitting 5 folds for each of 10 candidates, totalling 50 fits\n"
     ]
    },
    {
     "name": "stderr",
     "output_type": "stream",
     "text": [
      " 60%|████████████████████████████████████████████████▌                                | 60/100 [41:56<24:43, 37.08s/it]"
     ]
    },
    {
     "name": "stdout",
     "output_type": "stream",
     "text": [
      "best_score:0.6465731614262915\n",
      "\n",
      "best_params:{'pca__n_components': 550, 'LR__tol': 0.0001, 'LR__solver': 'liblinear', 'LR__penalty': 'l1', 'LR__dual': False, 'LR__C': 200}\n",
      "0.6078326981634334\n",
      "LR\n",
      "Fitting 5 folds for each of 10 candidates, totalling 50 fits\n"
     ]
    },
    {
     "name": "stderr",
     "output_type": "stream",
     "text": [
      " 61%|█████████████████████████████████████████████████▍                               | 61/100 [42:36<24:30, 37.69s/it]"
     ]
    },
    {
     "name": "stdout",
     "output_type": "stream",
     "text": [
      "best_score:0.6393962719010791\n",
      "\n",
      "best_params:{'pca__n_components': 550, 'LR__tol': 0.0001, 'LR__solver': 'liblinear', 'LR__penalty': 'l1', 'LR__dual': False, 'LR__C': 900}\n",
      "0.6113818246589496\n",
      "LR\n",
      "Fitting 5 folds for each of 10 candidates, totalling 50 fits\n"
     ]
    },
    {
     "name": "stderr",
     "output_type": "stream",
     "text": [
      " 62%|██████████████████████████████████████████████████▏                              | 62/100 [43:08<22:58, 36.28s/it]"
     ]
    },
    {
     "name": "stdout",
     "output_type": "stream",
     "text": [
      "best_score:0.6363515203181718\n",
      "\n",
      "best_params:{'pca__n_components': 550, 'LR__tol': 0.0001, 'LR__solver': 'liblinear', 'LR__penalty': 'l1', 'LR__dual': False, 'LR__C': 500}\n",
      "0.6057901962367762\n",
      "LR\n",
      "Fitting 5 folds for each of 10 candidates, totalling 50 fits\n"
     ]
    },
    {
     "name": "stderr",
     "output_type": "stream",
     "text": [
      " 63%|███████████████████████████████████████████████████                              | 63/100 [43:50<23:19, 37.84s/it]"
     ]
    },
    {
     "name": "stdout",
     "output_type": "stream",
     "text": [
      "best_score:0.6404236373143902\n",
      "\n",
      "best_params:{'pca__n_components': 550, 'LR__tol': 0.0001, 'LR__solver': 'liblinear', 'LR__penalty': 'l1', 'LR__dual': False, 'LR__C': 800}\n",
      "0.6113818246589496\n",
      "LR\n",
      "Fitting 5 folds for each of 10 candidates, totalling 50 fits\n"
     ]
    },
    {
     "name": "stderr",
     "output_type": "stream",
     "text": [
      " 64%|███████████████████████████████████████████████████▊                             | 64/100 [44:22<21:42, 36.19s/it]"
     ]
    },
    {
     "name": "stdout",
     "output_type": "stream",
     "text": [
      "best_score:0.6349431110204702\n",
      "\n",
      "best_params:{'pca__n_components': 550, 'LR__tol': 0.0001, 'LR__solver': 'liblinear', 'LR__penalty': 'l1', 'LR__dual': False, 'LR__C': 350}\n",
      "0.6093276571383328\n",
      "LR\n",
      "Fitting 5 folds for each of 10 candidates, totalling 50 fits\n"
     ]
    },
    {
     "name": "stderr",
     "output_type": "stream",
     "text": [
      " 65%|████████████████████████████████████████████████████▋                            | 65/100 [44:55<20:33, 35.23s/it]"
     ]
    },
    {
     "name": "stdout",
     "output_type": "stream",
     "text": [
      "best_score:0.6349431110204702\n",
      "\n",
      "best_params:{'pca__n_components': 550, 'LR__tol': 0.0001, 'LR__solver': 'liblinear', 'LR__penalty': 'l1', 'LR__dual': False, 'LR__C': 350}\n",
      "0.6057901962367762\n",
      "LR\n",
      "Fitting 5 folds for each of 10 candidates, totalling 50 fits\n"
     ]
    },
    {
     "name": "stderr",
     "output_type": "stream",
     "text": [
      " 66%|█████████████████████████████████████████████████████▍                           | 66/100 [45:22<18:35, 32.81s/it]"
     ]
    },
    {
     "name": "stdout",
     "output_type": "stream",
     "text": [
      "best_score:0.637284755937763\n",
      "\n",
      "best_params:{'pca__n_components': 550, 'LR__tol': 0.0001, 'LR__solver': 'liblinear', 'LR__penalty': 'l1', 'LR__dual': False, 'LR__C': 300}\n",
      "0.6057901962367762\n",
      "LR\n",
      "Fitting 5 folds for each of 10 candidates, totalling 50 fits\n",
      "best_score:0.6363515203181718\n",
      "\n",
      "best_params:{'pca__n_components': 550, 'LR__tol': 0.0001, 'LR__solver': 'liblinear', 'LR__penalty': 'l1', 'LR__dual': False, 'LR__C': 550}\n"
     ]
    },
    {
     "name": "stderr",
     "output_type": "stream",
     "text": [
      " 67%|██████████████████████████████████████████████████████▎                          | 67/100 [46:12<20:45, 37.73s/it]"
     ]
    },
    {
     "name": "stdout",
     "output_type": "stream",
     "text": [
      "0.6057901962367762\n",
      "LR\n",
      "Fitting 5 folds for each of 10 candidates, totalling 50 fits\n"
     ]
    },
    {
     "name": "stderr",
     "output_type": "stream",
     "text": [
      " 68%|███████████████████████████████████████████████████████                          | 68/100 [47:07<22:54, 42.94s/it]"
     ]
    },
    {
     "name": "stdout",
     "output_type": "stream",
     "text": [
      "best_score:0.6373492810702629\n",
      "\n",
      "best_params:{'pca__n_components': 550, 'LR__tol': 0.0001, 'LR__solver': 'liblinear', 'LR__penalty': 'l1', 'LR__dual': False, 'LR__C': 500}\n",
      "0.6057901962367762\n",
      "LR\n",
      "Fitting 5 folds for each of 10 candidates, totalling 50 fits\n"
     ]
    },
    {
     "name": "stderr",
     "output_type": "stream",
     "text": [
      " 69%|███████████████████████████████████████████████████████▉                         | 69/100 [47:40<20:38, 39.95s/it]"
     ]
    },
    {
     "name": "stdout",
     "output_type": "stream",
     "text": [
      "best_score:0.6453949517120253\n",
      "\n",
      "best_params:{'pca__n_components': 550, 'LR__tol': 0.0001, 'LR__solver': 'liblinear', 'LR__penalty': 'l1', 'LR__dual': False, 'LR__C': 200}\n",
      "0.6078326981634334\n",
      "LR\n",
      "Fitting 5 folds for each of 10 candidates, totalling 50 fits\n"
     ]
    },
    {
     "name": "stderr",
     "output_type": "stream",
     "text": [
      " 70%|████████████████████████████████████████████████████████▋                        | 70/100 [48:10<18:34, 37.16s/it]"
     ]
    },
    {
     "name": "stdout",
     "output_type": "stream",
     "text": [
      "best_score:0.6427631696859541\n",
      "\n",
      "best_params:{'pca__n_components': 550, 'LR__tol': 0.0001, 'LR__solver': 'liblinear', 'LR__penalty': 'l1', 'LR__dual': False, 'LR__C': 200}\n",
      "0.6078326981634334\n",
      "LR\n",
      "Fitting 5 folds for each of 10 candidates, totalling 50 fits\n"
     ]
    },
    {
     "name": "stderr",
     "output_type": "stream",
     "text": [
      " 71%|█████████████████████████████████████████████████████████▌                       | 71/100 [48:49<18:10, 37.61s/it]"
     ]
    },
    {
     "name": "stdout",
     "output_type": "stream",
     "text": [
      "best_score:0.6370421321780061\n",
      "\n",
      "best_params:{'pca__n_components': 550, 'LR__tol': 0.0001, 'LR__solver': 'liblinear', 'LR__penalty': 'l1', 'LR__dual': False, 'LR__C': 100}\n",
      "0.6164262606258099\n",
      "LR\n",
      "Fitting 5 folds for each of 10 candidates, totalling 50 fits\n",
      "best_score:0.6423990837644603\n",
      "\n",
      "best_params:{'pca__n_components': 550, 'LR__tol': 0.0001, 'LR__solver': 'liblinear', 'LR__penalty': 'l1', 'LR__dual': False, 'LR__C': 250}\n"
     ]
    },
    {
     "name": "stderr",
     "output_type": "stream",
     "text": [
      " 72%|██████████████████████████████████████████████████████████▎                      | 72/100 [49:30<17:57, 38.47s/it]"
     ]
    },
    {
     "name": "stdout",
     "output_type": "stream",
     "text": [
      "0.6078326981634334\n",
      "LR\n",
      "Fitting 5 folds for each of 10 candidates, totalling 50 fits\n"
     ]
    },
    {
     "name": "stderr",
     "output_type": "stream",
     "text": [
      " 73%|███████████████████████████████████████████████████████████▏                     | 73/100 [50:17<18:30, 41.14s/it]"
     ]
    },
    {
     "name": "stdout",
     "output_type": "stream",
     "text": [
      "best_score:0.6404236373143902\n",
      "\n",
      "best_params:{'pca__n_components': 550, 'LR__tol': 0.0001, 'LR__solver': 'liblinear', 'LR__penalty': 'l1', 'LR__dual': False, 'LR__C': 750}\n",
      "0.6113818246589496\n",
      "LR\n",
      "Fitting 5 folds for each of 10 candidates, totalling 50 fits\n"
     ]
    },
    {
     "name": "stderr",
     "output_type": "stream",
     "text": [
      " 74%|███████████████████████████████████████████████████████████▉                     | 74/100 [51:03<18:25, 42.54s/it]"
     ]
    },
    {
     "name": "stdout",
     "output_type": "stream",
     "text": [
      "best_score:0.6393962719010791\n",
      "\n",
      "best_params:{'pca__n_components': 550, 'LR__tol': 0.0001, 'LR__solver': 'liblinear', 'LR__penalty': 'l1', 'LR__dual': False, 'LR__C': 850}\n",
      "0.6113818246589496\n",
      "LR\n",
      "Fitting 5 folds for each of 10 candidates, totalling 50 fits\n"
     ]
    },
    {
     "name": "stderr",
     "output_type": "stream",
     "text": [
      " 75%|████████████████████████████████████████████████████████████▊                    | 75/100 [51:57<19:11, 46.08s/it]"
     ]
    },
    {
     "name": "stdout",
     "output_type": "stream",
     "text": [
      "best_score:0.6423990837644603\n",
      "\n",
      "best_params:{'pca__n_components': 550, 'LR__tol': 0.0001, 'LR__solver': 'liblinear', 'LR__penalty': 'l1', 'LR__dual': False, 'LR__C': 250}\n",
      "0.6078326981634334\n",
      "LR\n",
      "Fitting 5 folds for each of 10 candidates, totalling 50 fits\n"
     ]
    },
    {
     "name": "stderr",
     "output_type": "stream",
     "text": [
      " 76%|█████████████████████████████████████████████████████████████▌                   | 76/100 [52:48<19:00, 47.53s/it]"
     ]
    },
    {
     "name": "stdout",
     "output_type": "stream",
     "text": [
      "best_score:0.6393962719010791\n",
      "\n",
      "best_params:{'pca__n_components': 550, 'LR__tol': 0.0001, 'LR__solver': 'liblinear', 'LR__penalty': 'l1', 'LR__dual': False, 'LR__C': 950}\n",
      "0.6149086906077852\n",
      "LR\n",
      "Fitting 5 folds for each of 10 candidates, totalling 50 fits\n"
     ]
    },
    {
     "name": "stderr",
     "output_type": "stream",
     "text": [
      " 77%|██████████████████████████████████████████████████████████████▎                  | 77/100 [53:31<17:43, 46.24s/it]"
     ]
    },
    {
     "name": "stdout",
     "output_type": "stream",
     "text": [
      "best_score:0.6410273298608063\n",
      "\n",
      "best_params:{'pca__n_components': 550, 'LR__tol': 0.0001, 'LR__solver': 'liblinear', 'LR__penalty': 'l1', 'LR__dual': False, 'LR__C': 750}\n",
      "0.6113818246589496\n",
      "LR\n",
      "Fitting 5 folds for each of 10 candidates, totalling 50 fits\n"
     ]
    },
    {
     "name": "stderr",
     "output_type": "stream",
     "text": [
      " 78%|███████████████████████████████████████████████████████████████▏                 | 78/100 [54:05<15:37, 42.62s/it]"
     ]
    },
    {
     "name": "stdout",
     "output_type": "stream",
     "text": [
      "best_score:0.6326400239707961\n",
      "\n",
      "best_params:{'pca__n_components': 550, 'LR__tol': 0.0001, 'LR__solver': 'liblinear', 'LR__penalty': 'l1', 'LR__dual': False, 'LR__C': 700}\n",
      "0.6113818246589496\n",
      "LR\n",
      "Fitting 5 folds for each of 10 candidates, totalling 50 fits\n",
      "best_score:0.6393962719010791\n",
      "\n",
      "best_params:{'pca__n_components': 550, 'LR__tol': 0.0001, 'LR__solver': 'liblinear', 'LR__penalty': 'l1', 'LR__dual': False, 'LR__C': 950}\n"
     ]
    },
    {
     "name": "stderr",
     "output_type": "stream",
     "text": [
      " 79%|███████████████████████████████████████████████████████████████▉                 | 79/100 [54:53<15:23, 43.97s/it]"
     ]
    },
    {
     "name": "stdout",
     "output_type": "stream",
     "text": [
      "0.6113818246589496\n",
      "LR\n",
      "Fitting 5 folds for each of 10 candidates, totalling 50 fits\n",
      "best_score:0.6373492810702629\n",
      "\n",
      "best_params:{'pca__n_components': 550, 'LR__tol': 0.0001, 'LR__solver': 'liblinear', 'LR__penalty': 'l1', 'LR__dual': False, 'LR__C': 450}\n"
     ]
    },
    {
     "name": "stderr",
     "output_type": "stream",
     "text": [
      " 80%|████████████████████████████████████████████████████████████████▊                | 80/100 [55:44<15:24, 46.22s/it]"
     ]
    },
    {
     "name": "stdout",
     "output_type": "stream",
     "text": [
      "0.6057901962367762\n",
      "LR\n",
      "Fitting 5 folds for each of 10 candidates, totalling 50 fits\n"
     ]
    },
    {
     "name": "stderr",
     "output_type": "stream",
     "text": [
      " 81%|█████████████████████████████████████████████████████████████████▌               | 81/100 [56:29<14:33, 45.98s/it]"
     ]
    },
    {
     "name": "stdout",
     "output_type": "stream",
     "text": [
      "best_score:0.6390090629884134\n",
      "\n",
      "best_params:{'pca__n_components': 550, 'LR__tol': 0.0001, 'LR__solver': 'liblinear', 'LR__penalty': 'l1', 'LR__dual': False, 'LR__C': 300}\n",
      "0.6057901962367762\n",
      "LR\n",
      "Fitting 5 folds for each of 10 candidates, totalling 50 fits\n"
     ]
    },
    {
     "name": "stderr",
     "output_type": "stream",
     "text": [
      " 82%|██████████████████████████████████████████████████████████████████▍              | 82/100 [57:22<14:22, 47.92s/it]"
     ]
    },
    {
     "name": "stdout",
     "output_type": "stream",
     "text": [
      "best_score:0.6427631696859541\n",
      "\n",
      "best_params:{'pca__n_components': 550, 'LR__tol': 0.0001, 'LR__solver': 'liblinear', 'LR__penalty': 'l1', 'LR__dual': False, 'LR__C': 200}\n",
      "0.6078326981634334\n",
      "LR\n",
      "Fitting 5 folds for each of 10 candidates, totalling 50 fits\n"
     ]
    },
    {
     "name": "stderr",
     "output_type": "stream",
     "text": [
      " 83%|███████████████████████████████████████████████████████████████████▏             | 83/100 [57:56<12:23, 43.74s/it]"
     ]
    },
    {
     "name": "stdout",
     "output_type": "stream",
     "text": [
      "best_score:0.6110840275133614\n",
      "\n",
      "best_params:{'pca__n_components': 100, 'LR__tol': 0.0001, 'LR__solver': 'liblinear', 'LR__penalty': 'l1', 'LR__dual': False, 'LR__C': 650}\n",
      "0.6067442550610945\n",
      "LR\n",
      "Fitting 5 folds for each of 10 candidates, totalling 50 fits\n"
     ]
    },
    {
     "name": "stderr",
     "output_type": "stream",
     "text": [
      " 84%|████████████████████████████████████████████████████████████████████             | 84/100 [58:41<11:45, 44.07s/it]"
     ]
    },
    {
     "name": "stdout",
     "output_type": "stream",
     "text": [
      "best_score:0.6370421321780061\n",
      "\n",
      "best_params:{'pca__n_components': 550, 'LR__tol': 0.0001, 'LR__solver': 'liblinear', 'LR__penalty': 'l1', 'LR__dual': False, 'LR__C': 100}\n",
      "0.6164262606258099\n",
      "LR\n",
      "Fitting 5 folds for each of 10 candidates, totalling 50 fits\n"
     ]
    },
    {
     "name": "stderr",
     "output_type": "stream",
     "text": [
      " 85%|████████████████████████████████████████████████████████████████████▊            | 85/100 [59:20<10:37, 42.50s/it]"
     ]
    },
    {
     "name": "stdout",
     "output_type": "stream",
     "text": [
      "best_score:0.6410273298608063\n",
      "\n",
      "best_params:{'pca__n_components': 550, 'LR__tol': 0.0001, 'LR__solver': 'liblinear', 'LR__penalty': 'l1', 'LR__dual': False, 'LR__C': 950}\n",
      "0.6149086906077852\n",
      "LR\n",
      "Fitting 5 folds for each of 10 candidates, totalling 50 fits\n"
     ]
    },
    {
     "name": "stderr",
     "output_type": "stream",
     "text": [
      " 86%|███████████████████████████████████████████████████████████████████▉           | 86/100 [1:00:07<10:16, 44.01s/it]"
     ]
    },
    {
     "name": "stdout",
     "output_type": "stream",
     "text": [
      "best_score:0.6404236373143902\n",
      "\n",
      "best_params:{'pca__n_components': 550, 'LR__tol': 0.0001, 'LR__solver': 'liblinear', 'LR__penalty': 'l1', 'LR__dual': False, 'LR__C': 750}\n",
      "0.6113818246589496\n",
      "LR\n",
      "Fitting 5 folds for each of 10 candidates, totalling 50 fits\n"
     ]
    },
    {
     "name": "stderr",
     "output_type": "stream",
     "text": [
      " 87%|████████████████████████████████████████████████████████████████████▋          | 87/100 [1:00:39<08:43, 40.31s/it]"
     ]
    },
    {
     "name": "stdout",
     "output_type": "stream",
     "text": [
      "best_score:0.6393962719010791\n",
      "\n",
      "best_params:{'pca__n_components': 550, 'LR__tol': 0.0001, 'LR__solver': 'liblinear', 'LR__penalty': 'l1', 'LR__dual': False, 'LR__C': 850}\n",
      "0.6113818246589496\n",
      "LR\n",
      "Fitting 5 folds for each of 10 candidates, totalling 50 fits\n"
     ]
    },
    {
     "name": "stderr",
     "output_type": "stream",
     "text": [
      " 88%|█████████████████████████████████████████████████████████████████████▌         | 88/100 [1:01:47<09:43, 48.64s/it]"
     ]
    },
    {
     "name": "stdout",
     "output_type": "stream",
     "text": [
      "best_score:0.6400206411568263\n",
      "\n",
      "best_params:{'pca__n_components': 550, 'LR__tol': 0.0001, 'LR__solver': 'liblinear', 'LR__penalty': 'l1', 'LR__dual': False, 'LR__C': 950}\n",
      "0.6113818246589496\n",
      "LR\n",
      "Fitting 5 folds for each of 10 candidates, totalling 50 fits\n"
     ]
    },
    {
     "name": "stderr",
     "output_type": "stream",
     "text": [
      " 89%|██████████████████████████████████████████████████████████████████████▎        | 89/100 [1:02:35<08:52, 48.43s/it]"
     ]
    },
    {
     "name": "stdout",
     "output_type": "stream",
     "text": [
      "best_score:0.641584959971688\n",
      "\n",
      "best_params:{'pca__n_components': 550, 'LR__tol': 0.0001, 'LR__solver': 'liblinear', 'LR__penalty': 'l1', 'LR__dual': False, 'LR__C': 200}\n",
      "0.6078326981634334\n",
      "LR\n",
      "Fitting 5 folds for each of 10 candidates, totalling 50 fits\n"
     ]
    },
    {
     "name": "stderr",
     "output_type": "stream",
     "text": [
      " 90%|███████████████████████████████████████████████████████████████████████        | 90/100 [1:03:28<08:18, 49.88s/it]"
     ]
    },
    {
     "name": "stdout",
     "output_type": "stream",
     "text": [
      "best_score:0.6423990837644603\n",
      "\n",
      "best_params:{'pca__n_components': 550, 'LR__tol': 0.0001, 'LR__solver': 'liblinear', 'LR__penalty': 'l1', 'LR__dual': False, 'LR__C': 250}\n",
      "0.6078326981634334\n",
      "LR\n",
      "Fitting 5 folds for each of 10 candidates, totalling 50 fits\n"
     ]
    },
    {
     "name": "stderr",
     "output_type": "stream",
     "text": [
      " 91%|███████████████████████████████████████████████████████████████████████▉       | 91/100 [1:03:59<06:37, 44.17s/it]"
     ]
    },
    {
     "name": "stdout",
     "output_type": "stream",
     "text": [
      "best_score:0.6336673893841074\n",
      "\n",
      "best_params:{'pca__n_components': 550, 'LR__tol': 0.0001, 'LR__solver': 'liblinear', 'LR__penalty': 'l1', 'LR__dual': False, 'LR__C': 650}\n",
      "0.6113818246589496\n",
      "LR\n",
      "Fitting 5 folds for each of 10 candidates, totalling 50 fits\n"
     ]
    },
    {
     "name": "stderr",
     "output_type": "stream",
     "text": [
      " 92%|████████████████████████████████████████████████████████████████████████▋      | 92/100 [1:04:33<05:28, 41.03s/it]"
     ]
    },
    {
     "name": "stdout",
     "output_type": "stream",
     "text": [
      "best_score:0.6393962719010791\n",
      "\n",
      "best_params:{'pca__n_components': 550, 'LR__tol': 0.0001, 'LR__solver': 'liblinear', 'LR__penalty': 'l1', 'LR__dual': False, 'LR__C': 950}\n",
      "0.6149086906077852\n",
      "LR\n",
      "Fitting 5 folds for each of 10 candidates, totalling 50 fits\n"
     ]
    },
    {
     "name": "stderr",
     "output_type": "stream",
     "text": [
      " 93%|█████████████████████████████████████████████████████████████████████████▍     | 93/100 [1:05:14<04:47, 41.00s/it]"
     ]
    },
    {
     "name": "stdout",
     "output_type": "stream",
     "text": [
      "best_score:0.6393962719010791\n",
      "\n",
      "best_params:{'pca__n_components': 550, 'LR__tol': 0.0001, 'LR__solver': 'liblinear', 'LR__penalty': 'l1', 'LR__dual': False, 'LR__C': 800}\n",
      "0.6113818246589496\n",
      "LR\n",
      "Fitting 5 folds for each of 10 candidates, totalling 50 fits\n"
     ]
    },
    {
     "name": "stderr",
     "output_type": "stream",
     "text": [
      " 94%|██████████████████████████████████████████████████████████████████████████▎    | 94/100 [1:05:59<04:13, 42.21s/it]"
     ]
    },
    {
     "name": "stdout",
     "output_type": "stream",
     "text": [
      "best_score:0.6465731614262915\n",
      "\n",
      "best_params:{'pca__n_components': 550, 'LR__tol': 0.0001, 'LR__solver': 'liblinear', 'LR__penalty': 'l1', 'LR__dual': False, 'LR__C': 200}\n",
      "0.6078326981634334\n",
      "LR\n",
      "Fitting 5 folds for each of 10 candidates, totalling 50 fits\n"
     ]
    },
    {
     "name": "stderr",
     "output_type": "stream",
     "text": [
      " 95%|███████████████████████████████████████████████████████████████████████████    | 95/100 [1:06:42<03:32, 42.45s/it]"
     ]
    },
    {
     "name": "stdout",
     "output_type": "stream",
     "text": [
      "best_score:0.6453949517120253\n",
      "\n",
      "best_params:{'pca__n_components': 550, 'LR__tol': 0.0001, 'LR__solver': 'liblinear', 'LR__penalty': 'l1', 'LR__dual': False, 'LR__C': 200}\n",
      "0.6078326981634334\n",
      "LR\n",
      "Fitting 5 folds for each of 10 candidates, totalling 50 fits\n"
     ]
    },
    {
     "name": "stderr",
     "output_type": "stream",
     "text": [
      " 96%|███████████████████████████████████████████████████████████████████████████▊   | 96/100 [1:07:18<02:42, 40.51s/it]"
     ]
    },
    {
     "name": "stdout",
     "output_type": "stream",
     "text": [
      "best_score:0.6373492810702629\n",
      "\n",
      "best_params:{'pca__n_components': 550, 'LR__tol': 0.0001, 'LR__solver': 'liblinear', 'LR__penalty': 'l1', 'LR__dual': False, 'LR__C': 500}\n",
      "0.6057901962367762\n",
      "LR\n",
      "Fitting 5 folds for each of 10 candidates, totalling 50 fits\n"
     ]
    },
    {
     "name": "stderr",
     "output_type": "stream",
     "text": [
      " 97%|████████████████████████████████████████████████████████████████████████████▋  | 97/100 [1:08:00<02:03, 41.03s/it]"
     ]
    },
    {
     "name": "stdout",
     "output_type": "stream",
     "text": [
      "best_score:0.6373492810702629\n",
      "\n",
      "best_params:{'pca__n_components': 550, 'LR__tol': 0.0001, 'LR__solver': 'liblinear', 'LR__penalty': 'l1', 'LR__dual': False, 'LR__C': 450}\n",
      "0.6057901962367762\n",
      "LR\n",
      "Fitting 5 folds for each of 10 candidates, totalling 50 fits\n"
     ]
    },
    {
     "name": "stderr",
     "output_type": "stream",
     "text": [
      " 98%|█████████████████████████████████████████████████████████████████████████████▍ | 98/100 [1:08:39<01:21, 40.57s/it]"
     ]
    },
    {
     "name": "stdout",
     "output_type": "stream",
     "text": [
      "best_score:0.6370421321780061\n",
      "\n",
      "best_params:{'pca__n_components': 550, 'LR__tol': 0.0001, 'LR__solver': 'liblinear', 'LR__penalty': 'l1', 'LR__dual': False, 'LR__C': 100}\n",
      "0.6164262606258099\n",
      "LR\n",
      "Fitting 5 folds for each of 10 candidates, totalling 50 fits\n",
      "best_score:0.6404236373143902\n",
      "\n",
      "best_params:{'pca__n_components': 550, 'LR__tol': 0.0001, 'LR__solver': 'liblinear', 'LR__penalty': 'l1', 'LR__dual': False, 'LR__C': 650}\n"
     ]
    },
    {
     "name": "stderr",
     "output_type": "stream",
     "text": [
      " 99%|██████████████████████████████████████████████████████████████████████████████▏| 99/100 [1:09:12<00:38, 38.25s/it]"
     ]
    },
    {
     "name": "stdout",
     "output_type": "stream",
     "text": [
      "0.6113818246589496\n",
      "LR\n",
      "Fitting 5 folds for each of 10 candidates, totalling 50 fits\n"
     ]
    },
    {
     "name": "stderr",
     "output_type": "stream",
     "text": [
      "100%|██████████████████████████████████████████████████████████████████████████████| 100/100 [1:09:46<00:00, 41.86s/it]"
     ]
    },
    {
     "name": "stdout",
     "output_type": "stream",
     "text": [
      "best_score:0.6393962719010791\n",
      "\n",
      "best_params:{'pca__n_components': 550, 'LR__tol': 0.0001, 'LR__solver': 'liblinear', 'LR__penalty': 'l1', 'LR__dual': False, 'LR__C': 900}\n",
      "0.6113818246589496\n"
     ]
    },
    {
     "name": "stderr",
     "output_type": "stream",
     "text": [
      "\n"
     ]
    }
   ],
   "source": [
    "Model_training(num_classes,Training_Features, Training_Data_label,Testing_Features,Testing_Data_label,Mode,Model_Path,times=times,cv_mode='RandomizedSearchCV')"
   ]
  },
  {
   "cell_type": "markdown",
   "metadata": {},
   "source": [
    "## T-test p-value"
   ]
  },
  {
   "cell_type": "code",
   "execution_count": 301,
   "metadata": {},
   "outputs": [],
   "source": [
    "LR_f1 = pd.read_csv('D:/Record/Mne/Models/LR/LR_f1.csv',index_col='Unnamed: 0')"
   ]
  },
  {
   "cell_type": "code",
   "execution_count": 302,
   "metadata": {},
   "outputs": [],
   "source": [
    "SVM_f1 = pd.read_csv('D:/Record/Mne/Models/SVM/SVM_f1.csv',index_col='Unnamed: 0')"
   ]
  },
  {
   "cell_type": "code",
   "execution_count": 310,
   "metadata": {},
   "outputs": [],
   "source": [
    "compare_results = scipy.stats.ttest_ind(LR_f1['0'].values,SVM_f1['0'].values)"
   ]
  },
  {
   "cell_type": "code",
   "execution_count": 313,
   "metadata": {},
   "outputs": [
    {
     "data": {
      "text/plain": [
       "2.939024739854814e-55"
      ]
     },
     "execution_count": 313,
     "metadata": {},
     "output_type": "execute_result"
    }
   ],
   "source": [
    "compare_results[1]"
   ]
  },
  {
   "cell_type": "code",
   "execution_count": 315,
   "metadata": {},
   "outputs": [
    {
     "name": "stdout",
     "output_type": "stream",
     "text": [
      "2.939024739854814e-53\n"
     ]
    }
   ],
   "source": [
    "print(compare_results[1]*100)"
   ]
  },
  {
   "cell_type": "code",
   "execution_count": 316,
   "metadata": {},
   "outputs": [
    {
     "data": {
      "text/plain": [
       "4.3103"
      ]
     },
     "execution_count": 316,
     "metadata": {},
     "output_type": "execute_result"
    }
   ],
   "source": [
    "0.6356 + 0.6019+0.6195+0.6026+0.6166+0.6073+0.6268"
   ]
  },
  {
   "cell_type": "code",
   "execution_count": 318,
   "metadata": {},
   "outputs": [
    {
     "data": {
      "text/plain": [
       "0.6157571428571428"
      ]
     },
     "execution_count": 318,
     "metadata": {},
     "output_type": "execute_result"
    }
   ],
   "source": [
    "4.3103 / 7"
   ]
  },
  {
   "cell_type": "code",
   "execution_count": 319,
   "metadata": {},
   "outputs": [
    {
     "data": {
      "text/plain": [
       "0.029299999999999993"
      ]
     },
     "execution_count": 319,
     "metadata": {},
     "output_type": "execute_result"
    }
   ],
   "source": [
    "0.6451 - 0.6158"
   ]
  },
  {
   "cell_type": "code",
   "execution_count": 320,
   "metadata": {},
   "outputs": [
    {
     "data": {
      "text/plain": [
       "0.03739999999999999"
      ]
     },
     "execution_count": 320,
     "metadata": {},
     "output_type": "execute_result"
    }
   ],
   "source": [
    "0.6532 - 0.6158"
   ]
  },
  {
   "cell_type": "code",
   "execution_count": null,
   "metadata": {},
   "outputs": [],
   "source": []
  }
 ],
 "metadata": {
  "kernelspec": {
   "display_name": "NLP",
   "language": "python",
   "name": "nlp"
  },
  "language_info": {
   "codemirror_mode": {
    "name": "ipython",
    "version": 3
   },
   "file_extension": ".py",
   "mimetype": "text/x-python",
   "name": "python",
   "nbconvert_exporter": "python",
   "pygments_lexer": "ipython3",
   "version": "3.6.12"
  }
 },
 "nbformat": 4,
 "nbformat_minor": 4
}
